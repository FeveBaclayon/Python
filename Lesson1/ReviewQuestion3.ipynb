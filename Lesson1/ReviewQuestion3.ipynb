{
 "cells": [
  {
   "cell_type": "markdown",
   "id": "fdbeebb6-a3fe-48fc-b3de-521affa3d7fe",
   "metadata": {},
   "source": [
    "# Review Question 3"
   ]
  },
  {
   "cell_type": "code",
   "execution_count": 1,
   "id": "a9b4856a-c382-4ebc-aa96-556c0597ae3c",
   "metadata": {},
   "outputs": [
    {
     "name": "stdin",
     "output_type": "stream",
     "text": [
      "Enter my surname:  Baclayon\n"
     ]
    },
    {
     "name": "stdout",
     "output_type": "stream",
     "text": [
      "Baclayon\n"
     ]
    }
   ],
   "source": [
    "user_input = input(\"Enter my surname: \")\n",
    "print(user_input)"
   ]
  },
  {
   "cell_type": "code",
   "execution_count": 3,
   "id": "93418ae6-9236-4576-849d-e91d6ac2fc0e",
   "metadata": {},
   "outputs": [
    {
     "name": "stdin",
     "output_type": "stream",
     "text": [
      "Enter my surname:  Baclayon\n"
     ]
    },
    {
     "name": "stdout",
     "output_type": "stream",
     "text": [
      "baclayon\n"
     ]
    }
   ],
   "source": [
    "user_input = input(\"Enter my surname: \")\n",
    "print(user_input.lower())\n"
   ]
  },
  {
   "cell_type": "code",
   "execution_count": 4,
   "id": "21cade91-bedd-438d-b3bf-eb62d3cec8bf",
   "metadata": {},
   "outputs": [
    {
     "name": "stdin",
     "output_type": "stream",
     "text": [
      "Enter my surname:  Baclayon\n"
     ]
    },
    {
     "name": "stdout",
     "output_type": "stream",
     "text": [
      "8\n"
     ]
    }
   ],
   "source": [
    "user_input = input(\"Enter my surname: \")\n",
    "print(len(user_input))\n"
   ]
  }
 ],
 "metadata": {
  "kernelspec": {
   "display_name": "Python 3 (ipykernel)",
   "language": "python",
   "name": "python3"
  },
  "language_info": {
   "codemirror_mode": {
    "name": "ipython",
    "version": 3
   },
   "file_extension": ".py",
   "mimetype": "text/x-python",
   "name": "python",
   "nbconvert_exporter": "python",
   "pygments_lexer": "ipython3",
   "version": "3.13.5"
  }
 },
 "nbformat": 4,
 "nbformat_minor": 5
}
