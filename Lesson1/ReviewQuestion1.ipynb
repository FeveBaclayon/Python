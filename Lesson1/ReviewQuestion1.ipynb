{
 "cells": [
  {
   "cell_type": "markdown",
   "id": "67e325fc-b3e5-4691-ac0c-e126151b3b8b",
   "metadata": {},
   "source": [
    "# Review Question 1"
   ]
  },
  {
   "cell_type": "code",
   "execution_count": null,
   "id": "e75d5347-dd66-45e6-ad15-1a6ea66384db",
   "metadata": {},
   "outputs": [],
   "source": [
    "\n",
    "# 1. String length\n",
    "my_string = \"Hello\"\n",
    "print(len(my_string))\n",
    "\n",
    "# 2. Concatenate two strings\n",
    "str1 = \"Hello\"\n",
    "str2 = \"World\"\n",
    "print(str1 + str2) \n",
    "\n",
    "# 3. Concatenate with a space\n",
    "print(str1 + \" \" + str2)  \n",
    "\n",
    "# 4. Slice \"fox\"\n",
    "sentence = \"The quick brown fox jumped over the lazy dog. #1234567890!\"\n",
    "print(sentence[16:19]) \n"
   ]
  },
  {
   "cell_type": "code",
   "execution_count": null,
   "id": "9ae938d7-705c-4025-844b-e57b7824ef0c",
   "metadata": {},
   "outputs": [],
   "source": []
  }
 ],
 "metadata": {
  "kernelspec": {
   "display_name": "Python 3 (ipykernel)",
   "language": "python",
   "name": "python3"
  },
  "language_info": {
   "codemirror_mode": {
    "name": "ipython",
    "version": 3
   },
   "file_extension": ".py",
   "mimetype": "text/x-python",
   "name": "python",
   "nbconvert_exporter": "python",
   "pygments_lexer": "ipython3",
   "version": "3.13.5"
  }
 },
 "nbformat": 4,
 "nbformat_minor": 5
}
