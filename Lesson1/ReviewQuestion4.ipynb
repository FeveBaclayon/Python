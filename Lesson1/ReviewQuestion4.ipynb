{
 "cells": [
  {
   "cell_type": "markdown",
   "id": "ef623f4a-d465-4e91-ae1b-1e0028e54969",
   "metadata": {},
   "source": [
    "# Review Question 4"
   ]
  },
  {
   "cell_type": "code",
   "execution_count": 4,
   "id": "5a12b6fb-b85b-425e-8041-3e6dd544e90d",
   "metadata": {},
   "outputs": [
    {
     "name": "stdin",
     "output_type": "stream",
     "text": [
      "Tell me your name:  lance\n"
     ]
    },
    {
     "name": "stdout",
     "output_type": "stream",
     "text": [
      "The first letter of your name is: L\n"
     ]
    }
   ],
   "source": [
    "name = input(\"Tell me your name: \").strip()\n",
    "if len(name) == 0:\n",
    "    print(\"You didn't enter a name!\")\n",
    "else:\n",
    "    first_letter = name[0].upper()\n",
    "    print(\"The first letter of your name is:\", first_letter)\n",
    "    "
   ]
  },
  {
   "cell_type": "code",
   "execution_count": null,
   "id": "f211cd50-ae4d-461f-9491-c6a3e177ba9a",
   "metadata": {},
   "outputs": [],
   "source": []
  }
 ],
 "metadata": {
  "kernelspec": {
   "display_name": "Python 3 (ipykernel)",
   "language": "python",
   "name": "python3"
  },
  "language_info": {
   "codemirror_mode": {
    "name": "ipython",
    "version": 3
   },
   "file_extension": ".py",
   "mimetype": "text/x-python",
   "name": "python",
   "nbconvert_exporter": "python",
   "pygments_lexer": "ipython3",
   "version": "3.13.5"
  }
 },
 "nbformat": 4,
 "nbformat_minor": 5
}
