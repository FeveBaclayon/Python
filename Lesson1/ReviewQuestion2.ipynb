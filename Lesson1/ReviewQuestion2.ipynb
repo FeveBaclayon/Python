{
 "cells": [
  {
   "cell_type": "markdown",
   "id": "6b8799cd-078f-48fe-991e-9c122046865d",
   "metadata": {},
   "source": [
    "# Review Question 2"
   ]
  },
  {
   "cell_type": "code",
   "execution_count": 1,
   "id": "ac43ff47-dbe2-4680-a9a6-2679e76daa25",
   "metadata": {},
   "outputs": [
    {
     "name": "stdout",
     "output_type": "stream",
     "text": [
      "animals\n",
      "badger\n",
      "honey bee\n",
      "honey badger\n"
     ]
    }
   ],
   "source": [
    "print(\"Animals\". lower()) \n",
    "print(\"Badger\". lower())\n",
    "print(\"Honey Bee\". lower())\n",
    "print(\"Honey Badger\".lower())"
   ]
  },
  {
   "cell_type": "code",
   "execution_count": 2,
   "id": "742b1086-e2a9-4058-ab6f-c04ef2a0c857",
   "metadata": {},
   "outputs": [
    {
     "name": "stdout",
     "output_type": "stream",
     "text": [
      "ANIMALS\n",
      "BADGER\n",
      "HONEY BEE\n",
      "HONEY BADGER\n"
     ]
    }
   ],
   "source": [
    "print(\"Animals\". upper()) \n",
    "print(\"Badger\".upper())\n",
    "print(\"Honey Bee\". upper())\n",
    "print(\"Honey Badger\".upper())"
   ]
  },
  {
   "cell_type": "code",
   "execution_count": 3,
   "id": "8716b35f-7018-4728-914b-f2fb2ffbe64a",
   "metadata": {},
   "outputs": [
    {
     "name": "stdout",
     "output_type": "stream",
     "text": [
      "Fillet Mignon\n",
      "Brisket\n"
     ]
    }
   ],
   "source": [
    "string1 = \"Fillet Mignon\"\n",
    "string2 = \"Brisket\"\n",
    "print(string1.strip())\n",
    "print(string2.strip())\n"
   ]
  },
  {
   "cell_type": "code",
   "execution_count": 5,
   "id": "5b31fabc-d814-4576-a4c6-bde4713d6dfc",
   "metadata": {},
   "outputs": [
    {
     "name": "stdout",
     "output_type": "stream",
     "text": [
      "False\n",
      "True\n"
     ]
    }
   ],
   "source": [
    "string1 = \"Becomes\"\n",
    "string2 = \"becomes\"\n",
    "print(string1.startswith(\"be\"))\n",
    "print(string2.startswith(\"be\"))\n"
   ]
  },
  {
   "cell_type": "code",
   "execution_count": 6,
   "id": "dfcb5873-2642-43e2-a8d4-e6c8b8644846",
   "metadata": {},
   "outputs": [
    {
     "name": "stdout",
     "output_type": "stream",
     "text": [
      "True\n",
      "True\n"
     ]
    }
   ],
   "source": [
    "print(string1.lower().startswith(\"be\"))\n",
    "print(string2.lower().startswith(\"be\"))\n"
   ]
  }
 ],
 "metadata": {
  "kernelspec": {
   "display_name": "Python 3 (ipykernel)",
   "language": "python",
   "name": "python3"
  },
  "language_info": {
   "codemirror_mode": {
    "name": "ipython",
    "version": 3
   },
   "file_extension": ".py",
   "mimetype": "text/x-python",
   "name": "python",
   "nbconvert_exporter": "python",
   "pygments_lexer": "ipython3",
   "version": "3.13.5"
  }
 },
 "nbformat": 4,
 "nbformat_minor": 5
}
