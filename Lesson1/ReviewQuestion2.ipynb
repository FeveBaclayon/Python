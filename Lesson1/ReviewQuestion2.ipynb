{
 "cells": [
  {
   "cell_type": "markdown",
   "id": "5d61ebbc-331f-4a1c-8357-1a917a3e9564",
   "metadata": {},
   "source": [
    "# Review Question 2"
   ]
  },
  {
   "cell_type": "code",
   "execution_count": 2,
   "id": "ffae4d46-1944-4828-9b2a-3ba0873a9e34",
   "metadata": {},
   "outputs": [
    {
     "name": "stdout",
     "output_type": "stream",
     "text": [
      "Exercise 1: Convert to lowercase\n",
      "animals\n",
      "badger\n",
      "honey bee\n",
      "honeybadger\n"
     ]
    }
   ],
   "source": [
    "print(\"Exercise 1: Convert to lowercase\")\n",
    "strings = [\"Animals\", \"Badger\", \"Honey Bee\", \"Honeybadger\"]\n",
    "for s in strings:\n",
    "    print(s.lower())\n",
    "\n"
   ]
  },
  {
   "cell_type": "code",
   "execution_count": 4,
   "id": "f0869a43-75d9-4b10-ae27-367aaa97d759",
   "metadata": {},
   "outputs": [
    {
     "name": "stdout",
     "output_type": "stream",
     "text": [
      "\n",
      "Exercise 2: Convert to uppercase\n",
      "ANIMALS\n",
      "BADGER\n",
      "HONEY BEE\n",
      "HONEYBADGER\n"
     ]
    }
   ],
   "source": [
    "print(\"\\nExercise 2: Convert to uppercase\")\n",
    "# Exercise 2\n",
    "for s in strings:\n",
    "    print(s.upper())\n"
   ]
  },
  {
   "cell_type": "code",
   "execution_count": 5,
   "id": "8c2f28e3-01a1-4ee5-b139-7999c4f7a85f",
   "metadata": {},
   "outputs": [
    {
     "name": "stdout",
     "output_type": "stream",
     "text": [
      "\n",
      "Exercise 3: Remove whitespace\n",
      "Filet Mignon\n",
      "Brisket\n"
     ]
    }
   ],
   "source": [
    "print(\"\\nExercise 3: Remove whitespace\")\n",
    "string1 = \"   Filet Mignon\"\n",
    "string2 = \"Brisket   \"\n",
    "print(string1.strip())\n",
    "print(string2.strip())\n"
   ]
  },
  {
   "cell_type": "code",
   "execution_count": 6,
   "id": "5408ecbe-4e5e-4adc-b829-4e18b6ddd6ec",
   "metadata": {},
   "outputs": [
    {
     "name": "stdout",
     "output_type": "stream",
     "text": [
      "\n",
      "Exercise 4: .startswith('be')\n",
      "False\n",
      "True\n"
     ]
    }
   ],
   "source": [
    "print(\"\\nExercise 4: .startswith('be')\")\n",
    "string1 = \"Becomes\"\n",
    "string2 = \"becomes\"\n",
    "print(string1.startswith(\"be\"))  \n",
    "print(string2.startswith(\"be\")) "
   ]
  },
  {
   "cell_type": "code",
   "execution_count": 7,
   "id": "840e0f45-64e6-4336-9a1d-d7594df686aa",
   "metadata": {},
   "outputs": [
    {
     "name": "stdout",
     "output_type": "stream",
     "text": [
      "\n",
      "Exercise 5: Alter strings so .startswith('be') returns True\n",
      "True\n",
      "True\n"
     ]
    }
   ],
   "source": [
    "print(\"\\nExercise 5: Alter strings so .startswith('be') returns True\")\n",
    "print(string1.lower().startswith(\"be\")) \n",
    "print(string2.lower().startswith(\"be\")) "
   ]
  },
  {
   "cell_type": "code",
   "execution_count": null,
   "id": "147878c8-e330-4121-abae-6170365957d2",
   "metadata": {},
   "outputs": [],
   "source": []
  }
 ],
 "metadata": {
  "kernelspec": {
   "display_name": "Python 3 (ipykernel)",
   "language": "python",
   "name": "python3"
  },
  "language_info": {
   "codemirror_mode": {
    "name": "ipython",
    "version": 3
   },
   "file_extension": ".py",
   "mimetype": "text/x-python",
   "name": "python",
   "nbconvert_exporter": "python",
   "pygments_lexer": "ipython3",
   "version": "3.13.5"
  }
 },
 "nbformat": 4,
 "nbformat_minor": 5
}
