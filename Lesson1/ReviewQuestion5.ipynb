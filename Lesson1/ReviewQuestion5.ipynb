{
 "cells": [
  {
   "cell_type": "markdown",
   "id": "a719dd4d-f394-4017-bfbb-ce24b347cb16",
   "metadata": {},
   "source": [
    "# Review Question 5"
   ]
  },
  {
   "cell_type": "code",
   "execution_count": 3,
   "id": "81fc8456-96c3-4d15-8829-efa6286ad063",
   "metadata": {},
   "outputs": [
    {
     "name": "stdout",
     "output_type": "stream",
     "text": [
      "Integer multiplication result: 50\n",
      "Float multiplication result: 7.0\n",
      "Age: 25\n"
     ]
    },
    {
     "name": "stdin",
     "output_type": "stream",
     "text": [
      "Enter first number:  50\n",
      "Enter second number:  69\n"
     ]
    },
    {
     "name": "stdout",
     "output_type": "stream",
     "text": [
      "The multiplication result is: 3450\n"
     ]
    }
   ],
   "source": [
    "\n",
    "string_num = \"10\"\n",
    "int_num = int(string_num)\n",
    "print(\"Integer multiplication result:\", int_num * 5)\n",
    "\n",
    "string_float = \"3.5\"\n",
    "float_num = float(string_float)\n",
    "print(\"Float multiplication result:\", float_num * 2)\n",
    "\n",
    "string_obj = \"Age:\"\n",
    "int_obj = 25\n",
    "print(string_obj + \" \" + str(int_obj))\n",
    "\n",
    "num1 = int(input(\"Enter first number: \"))\n",
    "num2 = int(input(\"Enter second number: \"))\n",
    "result = num1 * num2\n",
    "print(\"The multiplication result is:\", result)\n"
   ]
  },
  {
   "cell_type": "code",
   "execution_count": null,
   "id": "c2688ef7-c956-417c-a003-22e39194b77f",
   "metadata": {},
   "outputs": [],
   "source": []
  }
 ],
 "metadata": {
  "kernelspec": {
   "display_name": "Python 3 (ipykernel)",
   "language": "python",
   "name": "python3"
  },
  "language_info": {
   "codemirror_mode": {
    "name": "ipython",
    "version": 3
   },
   "file_extension": ".py",
   "mimetype": "text/x-python",
   "name": "python",
   "nbconvert_exporter": "python",
   "pygments_lexer": "ipython3",
   "version": "3.13.5"
  }
 },
 "nbformat": 4,
 "nbformat_minor": 5
}
