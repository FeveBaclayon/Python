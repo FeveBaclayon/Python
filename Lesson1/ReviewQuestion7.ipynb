{
 "cells": [
  {
   "cell_type": "markdown",
   "id": "9432d0bc-146a-405e-8626-2a507c756446",
   "metadata": {},
   "source": [
    "# Review Question 7"
   ]
  },
  {
   "cell_type": "code",
   "execution_count": null,
   "id": "1b232fae-9d13-4f2c-b623-bc980a876d60",
   "metadata": {},
   "outputs": [],
   "source": [
    "\n",
    "leet = input(\"Enter a word or sentence: \")\n",
    "\n",
    "leet = leet.replace(\"a\", \"4\")\n",
    "leet = leet.replace(\"e\", \"3\")\n",
    "leet = leet.replace(\"i\", \"1\")\n",
    "leet = leet.replace(\"o\", \"0\")\n",
    "leet = leet.replace(\"s\", \"5\")\n",
    "leet = leet.replace(\"t\", \"7\")\n",
    "\n",
    "print(\"Leetspeak:\", leet)\n"
   ]
  },
  {
   "cell_type": "code",
   "execution_count": null,
   "id": "60413ba3-1cd8-4c10-a42e-4465bbc8263d",
   "metadata": {},
   "outputs": [],
   "source": []
  }
 ],
 "metadata": {
  "kernelspec": {
   "display_name": "Python 3 (ipykernel)",
   "language": "python",
   "name": "python3"
  },
  "language_info": {
   "codemirror_mode": {
    "name": "ipython",
    "version": 3
   },
   "file_extension": ".py",
   "mimetype": "text/x-python",
   "name": "python",
   "nbconvert_exporter": "python",
   "pygments_lexer": "ipython3",
   "version": "3.13.5"
  }
 },
 "nbformat": 4,
 "nbformat_minor": 5
}
