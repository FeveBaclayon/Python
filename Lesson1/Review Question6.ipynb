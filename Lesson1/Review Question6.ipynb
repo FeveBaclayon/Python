{
 "cells": [
  {
   "cell_type": "markdown",
   "id": "8ba2b8d8-e9e5-43af-b335-7cf451ff0ca5",
   "metadata": {},
   "source": [
    "# Review Question 6"
   ]
  },
  {
   "cell_type": "code",
   "execution_count": 5,
   "id": "57a4c26d-01a9-42e3-8509-3f8f64689860",
   "metadata": {},
   "outputs": [
    {
     "name": "stdout",
     "output_type": "stream",
     "text": [
      "3\n",
      "Somebody yaid yomething to Samantha.\n"
     ]
    },
    {
     "name": "stdin",
     "output_type": "stream",
     "text": [
      "Enter a sentence:  lance\n"
     ]
    },
    {
     "name": "stdout",
     "output_type": "stream",
     "text": [
      "The first 'c' is at index 3.\n"
     ]
    }
   ],
   "source": [
    "print(\"lance\".find(\"c\"))  \n",
    "\n",
    "text = \"Somebody said something to Samantha.\"\n",
    "new_text = text.replace(\"s\", \"y\")  \n",
    "print(new_text)\n",
    "\n",
    "sentence = input(\"Enter a sentence: \")\n",
    "position = sentence.find(\"c\")\n",
    "if position != -1:\n",
    "    print(f\"The first 'c' is at index {position}.\")\n",
    "else:\n",
    "    print(\"The letter 'c' was not found in your sentence.\")"
   ]
  }
 ],
 "metadata": {
  "kernelspec": {
   "display_name": "Python 3 (ipykernel)",
   "language": "python",
   "name": "python3"
  },
  "language_info": {
   "codemirror_mode": {
    "name": "ipython",
    "version": 3
   },
   "file_extension": ".py",
   "mimetype": "text/x-python",
   "name": "python",
   "nbconvert_exporter": "python",
   "pygments_lexer": "ipython3",
   "version": "3.13.5"
  }
 },
 "nbformat": 4,
 "nbformat_minor": 5
}
