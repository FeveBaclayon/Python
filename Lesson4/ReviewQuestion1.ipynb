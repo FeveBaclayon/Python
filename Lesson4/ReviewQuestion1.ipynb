{
 "cells": [
  {
   "cell_type": "markdown",
   "id": "58ae6c51-8094-4984-af9d-f107d210f41b",
   "metadata": {},
   "source": [
    "# Review Question 1"
   ]
  },
  {
   "cell_type": "code",
   "execution_count": 1,
   "id": "a6a2fc3e-7c01-41bc-939a-491b4ff2addb",
   "metadata": {},
   "outputs": [
    {
     "name": "stdout",
     "output_type": "stream",
     "text": [
      "True\n",
      "False\n",
      "True\n",
      "True\n",
      "True\n",
      "False\n"
     ]
    }
   ],
   "source": [
    "print(1 <= 1)      \n",
    "print(1 != 1)       \n",
    "print(1 != 2)       \n",
    "print(\"good\" != \"bad\")   \n",
    "print(\"good\" != \"Good\")  \n",
    "print(123 == \"123\")      \n",
    "    \n"
   ]
  },
  {
   "cell_type": "code",
   "execution_count": 3,
   "id": "f8819710-573d-4694-aef4-5a6dbe1ee1e8",
   "metadata": {},
   "outputs": [
    {
     "name": "stdout",
     "output_type": "stream",
     "text": [
      "True\n",
      "True\n",
      "True\n",
      "True\n"
     ]
    }
   ],
   "source": [
    "print(3 < 4)        \n",
    "print(10 > 5)        \n",
    "print(\"jack\" < \"jill\") \n",
    "print(42 != \"42\") "
   ]
  },
  {
   "cell_type": "code",
   "execution_count": null,
   "id": "dfa8c590-56d4-48e7-910b-369d072d4a58",
   "metadata": {},
   "outputs": [],
   "source": []
  }
 ],
 "metadata": {
  "kernelspec": {
   "display_name": "Python 3 (ipykernel)",
   "language": "python",
   "name": "python3"
  },
  "language_info": {
   "codemirror_mode": {
    "name": "ipython",
    "version": 3
   },
   "file_extension": ".py",
   "mimetype": "text/x-python",
   "name": "python",
   "nbconvert_exporter": "python",
   "pygments_lexer": "ipython3",
   "version": "3.13.5"
  }
 },
 "nbformat": 4,
 "nbformat_minor": 5
}
