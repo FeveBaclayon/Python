{
 "cells": [
  {
   "cell_type": "markdown",
   "id": "b3b8c86d-bacb-4a55-8849-49a74f3d7bcf",
   "metadata": {},
   "source": [
    "# Review Question 2"
   ]
  },
  {
   "cell_type": "code",
   "execution_count": 1,
   "id": "c0e02182-05df-4314-872f-605a115833f7",
   "metadata": {},
   "outputs": [
    {
     "name": "stdout",
     "output_type": "stream",
     "text": [
      "False\n",
      "False\n",
      "True\n",
      "False\n"
     ]
    }
   ],
   "source": [
    "\n",
    "print((1 <= 1) and (1 != 1))            \n",
    "print(not (1 != 2))                     \n",
    "print((\"good\" != \"bad\") or False)       \n",
    "print((\"good\" != \"Good\") and not (1 == 1)) \n"
   ]
  },
  {
   "cell_type": "code",
   "execution_count": 3,
   "id": "f5dd4a31-c58b-42f1-b19d-cb57e45f81d8",
   "metadata": {},
   "outputs": [
    {
     "name": "stdout",
     "output_type": "stream",
     "text": [
      "True\n",
      "True\n",
      "False\n"
     ]
    }
   ],
   "source": [
    "print(False == (not True))             \n",
    "print((True and False) == (True and False))  \n",
    "print((not True) and (\"A\" == \"B\"))   "
   ]
  },
  {
   "cell_type": "code",
   "execution_count": null,
   "id": "3d328802-6a19-4694-8716-d711d74a3961",
   "metadata": {},
   "outputs": [],
   "source": []
  }
 ],
 "metadata": {
  "kernelspec": {
   "display_name": "Python 3 (ipykernel)",
   "language": "python",
   "name": "python3"
  },
  "language_info": {
   "codemirror_mode": {
    "name": "ipython",
    "version": 3
   },
   "file_extension": ".py",
   "mimetype": "text/x-python",
   "name": "python",
   "nbconvert_exporter": "python",
   "pygments_lexer": "ipython3",
   "version": "3.13.5"
  }
 },
 "nbformat": 4,
 "nbformat_minor": 5
}
