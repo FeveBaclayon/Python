{
 "cells": [
  {
   "cell_type": "markdown",
   "id": "5fc2612c-dcda-493a-a014-493b8c4ec784",
   "metadata": {},
   "source": [
    "# Review Question 3"
   ]
  },
  {
   "cell_type": "code",
   "execution_count": 4,
   "id": "3b31e576-89a5-4492-908d-19c64786fbc9",
   "metadata": {},
   "outputs": [
    {
     "name": "stdin",
     "output_type": "stream",
     "text": [
      "Enter a word:  hello\n"
     ]
    },
    {
     "name": "stdout",
     "output_type": "stream",
     "text": [
      "The word is exactly 5 characters.\n"
     ]
    }
   ],
   "source": [
    "\n",
    "word = input(\"Enter a word: \")\n",
    "if len(word) < 5:\n",
    "    print(\"The word is less than 5 characters.\")\n",
    "elif len(word) > 5:\n",
    "    print(\"The word is greater than 5 characters.\")\n",
    "else:\n",
    "    print(\"The word is exactly 5 characters.\")\n"
   ]
  }
 ],
 "metadata": {
  "kernelspec": {
   "display_name": "Python 3 (ipykernel)",
   "language": "python",
   "name": "python3"
  },
  "language_info": {
   "codemirror_mode": {
    "name": "ipython",
    "version": 3
   },
   "file_extension": ".py",
   "mimetype": "text/x-python",
   "name": "python",
   "nbconvert_exporter": "python",
   "pygments_lexer": "ipython3",
   "version": "3.13.5"
  }
 },
 "nbformat": 4,
 "nbformat_minor": 5
}
