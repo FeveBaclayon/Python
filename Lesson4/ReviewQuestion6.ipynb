{
 "cells": [
  {
   "cell_type": "markdown",
   "id": "dd02dc8c-41ed-4ed5-a7c9-099cbb994735",
   "metadata": {},
   "source": [
    "# Review Question 6"
   ]
  },
  {
   "cell_type": "code",
   "execution_count": 1,
   "id": "8819cfe5-c478-43c8-9071-23130c3f0069",
   "metadata": {},
   "outputs": [
    {
     "name": "stdout",
     "output_type": "stream",
     "text": [
      "You rolled: 4\n"
     ]
    }
   ],
   "source": [
    "import random\n",
    "\n",
    "def roll():\n",
    "    return random.randint(1, 6)\n",
    "print(\"You rolled:\", roll())\n"
   ]
  },
  {
   "cell_type": "code",
   "execution_count": 2,
   "id": "fda07abf-f1fe-4073-97a1-6121a4683c7c",
   "metadata": {},
   "outputs": [
    {
     "name": "stdout",
     "output_type": "stream",
     "text": [
      "Average number rolled after 10,000 rolls: 3.4916\n"
     ]
    }
   ],
   "source": [
    "import random\n",
    "total = 0\n",
    "for _ in range(10000):\n",
    "    roll = random.randint(1, 6)  # fair die roll\n",
    "    total += roll\n",
    "average = total / 10000\n",
    "\n",
    "print(\"Average number rolled after 10,000 rolls:\", average)\n"
   ]
  }
 ],
 "metadata": {
  "kernelspec": {
   "display_name": "Python 3 (ipykernel)",
   "language": "python",
   "name": "python3"
  },
  "language_info": {
   "codemirror_mode": {
    "name": "ipython",
    "version": 3
   },
   "file_extension": ".py",
   "mimetype": "text/x-python",
   "name": "python",
   "nbconvert_exporter": "python",
   "pygments_lexer": "ipython3",
   "version": "3.13.5"
  }
 },
 "nbformat": 4,
 "nbformat_minor": 5
}
