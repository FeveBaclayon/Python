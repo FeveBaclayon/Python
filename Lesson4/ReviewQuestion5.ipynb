{
 "cells": [
  {
   "cell_type": "markdown",
   "id": "1324feff-7d9a-443c-ae6e-c3650e896a57",
   "metadata": {},
   "source": [
    "# Review Question 5"
   ]
  },
  {
   "cell_type": "code",
   "execution_count": 2,
   "id": "048bfb46-1929-469c-af0b-e8e153b2dd55",
   "metadata": {},
   "outputs": [
    {
     "name": "stdin",
     "output_type": "stream",
     "text": [
      "Enter an integer:  A\n"
     ]
    },
    {
     "name": "stdout",
     "output_type": "stream",
     "text": [
      "Try again! That was not an integer.\n"
     ]
    },
    {
     "name": "stdin",
     "output_type": "stream",
     "text": [
      "Enter an integer:  4\n"
     ]
    },
    {
     "name": "stdout",
     "output_type": "stream",
     "text": [
      "You entered: 4\n"
     ]
    }
   ],
   "source": [
    "while True:\n",
    "    try:\n",
    "        number = int(input(\"Enter an integer: \"))\n",
    "        print(\"You entered:\", number)\n",
    "        break  \n",
    "    except ValueError:\n",
    "        print(\"Try again! That was not an integer.\")\n"
   ]
  },
  {
   "cell_type": "code",
   "execution_count": 4,
   "id": "dfbf29a6-45db-4d99-b0a8-17634e60bffa",
   "metadata": {},
   "outputs": [
    {
     "name": "stdin",
     "output_type": "stream",
     "text": [
      "Enter a string:  Hello\n",
      "Enter an index number:  5\n"
     ]
    },
    {
     "name": "stdout",
     "output_type": "stream",
     "text": [
      "Invalid index! The string length is 5\n"
     ]
    }
   ],
   "source": [
    "text = input(\"Enter a string: \")\n",
    "\n",
    "n = int(input(\"Enter an index number: \"))\n",
    "if 0 <= n < len(text):\n",
    "    print(\"The character at index\", n, \"is:\", text[n])\n",
    "else:\n",
    "    print(\"Invalid index! The string length is\", len(text))\n"
   ]
  },
  {
   "cell_type": "code",
   "execution_count": null,
   "id": "7d6561c7-8776-4e5e-941d-e023ddd05a8a",
   "metadata": {},
   "outputs": [],
   "source": []
  }
 ],
 "metadata": {
  "kernelspec": {
   "display_name": "Python 3 (ipykernel)",
   "language": "python",
   "name": "python3"
  },
  "language_info": {
   "codemirror_mode": {
    "name": "ipython",
    "version": 3
   },
   "file_extension": ".py",
   "mimetype": "text/x-python",
   "name": "python",
   "nbconvert_exporter": "python",
   "pygments_lexer": "ipython3",
   "version": "3.13.5"
  }
 },
 "nbformat": 4,
 "nbformat_minor": 5
}
