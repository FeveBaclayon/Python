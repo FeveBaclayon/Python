{
 "cells": [
  {
   "cell_type": "markdown",
   "id": "5044a0c3-9629-4977-9174-d7879901eaaf",
   "metadata": {},
   "source": [
    "# Review Question 4"
   ]
  },
  {
   "cell_type": "code",
   "execution_count": 3,
   "id": "f5242b21-6c7d-492e-9342-2a417d972c72",
   "metadata": {},
   "outputs": [
    {
     "name": "stdin",
     "output_type": "stream",
     "text": [
      "Enter something (press Q to quit):  Q\n"
     ]
    },
    {
     "name": "stdout",
     "output_type": "stream",
     "text": [
      "Goodbye!\n"
     ]
    }
   ],
   "source": [
    "while True:\n",
    "    user_input = input(\"Enter something (press Q to quit): \")\n",
    "    \n",
    "    if user_input == \"Q\" or user_input == \"q\":\n",
    "        print(\"Goodbye!\")\n",
    "        break\n",
    "    \n",
    "    print(\"You entered:\", user_input)\n"
   ]
  },
  {
   "cell_type": "code",
   "execution_count": 4,
   "id": "cf4bf1bf-58af-46ee-b027-ad326714bf71",
   "metadata": {},
   "outputs": [
    {
     "name": "stdout",
     "output_type": "stream",
     "text": [
      "1\n",
      "2\n",
      "4\n",
      "5\n",
      "7\n",
      "8\n",
      "10\n",
      "11\n",
      "13\n",
      "14\n",
      "16\n",
      "17\n",
      "19\n",
      "20\n",
      "22\n",
      "23\n",
      "25\n",
      "26\n",
      "28\n",
      "29\n",
      "31\n",
      "32\n",
      "34\n",
      "35\n",
      "37\n",
      "38\n",
      "40\n",
      "41\n",
      "43\n",
      "44\n",
      "46\n",
      "47\n",
      "49\n",
      "50\n"
     ]
    }
   ],
   "source": [
    "for num in range(1, 51):\n",
    "    if num % 3 == 0:   \n",
    "        continue      \n",
    "    print(num)\n"
   ]
  }
 ],
 "metadata": {
  "kernelspec": {
   "display_name": "Python 3 (ipykernel)",
   "language": "python",
   "name": "python3"
  },
  "language_info": {
   "codemirror_mode": {
    "name": "ipython",
    "version": 3
   },
   "file_extension": ".py",
   "mimetype": "text/x-python",
   "name": "python",
   "nbconvert_exporter": "python",
   "pygments_lexer": "ipython3",
   "version": "3.13.5"
  }
 },
 "nbformat": 4,
 "nbformat_minor": 5
}
