{
 "cells": [
  {
   "cell_type": "markdown",
   "id": "f22766b9-9570-4769-ad0b-caa414f11d9f",
   "metadata": {},
   "source": [
    "# 1st Long Exam Date:09/10/2025\n",
    "# Baclayon, Feve Lance C. ID:23816069\n"
   ]
  },
  {
   "cell_type": "code",
   "execution_count": 2,
   "id": "0e050384-d745-4acd-9c6a-45b904f47b36",
   "metadata": {},
   "outputs": [
    {
     "name": "stdin",
     "output_type": "stream",
     "text": [
      "Enter your name Lanc\n"
     ]
    },
    {
     "name": "stdout",
     "output_type": "stream",
     "text": [
      "Hello, Lanc\n"
     ]
    }
   ],
   "source": [
    "#Question 1\n",
    "prompt = input (\"Enter your name\")\n",
    "print (f\"Hello, {prompt}\") "
   ]
  },
  {
   "cell_type": "code",
   "execution_count": 1,
   "id": "97d7d8aa-10a5-4cd9-a13c-9ce5f9da741e",
   "metadata": {},
   "outputs": [
    {
     "name": "stdin",
     "output_type": "stream",
     "text": [
      "Enter number :  12\n"
     ]
    },
    {
     "name": "stdout",
     "output_type": "stream",
     "text": [
      "The sum is : 6.5\n"
     ]
    }
   ],
   "source": [
    "# Question 2\n",
    "n = int (input (\"Enter number : \"))\n",
    "r = (n+1)/2\n",
    "print (f\"The sum is : {r}\")"
   ]
  },
  {
   "cell_type": "code",
   "execution_count": 2,
   "id": "cd755ba3-4d25-4f76-abce-a5090a6f1d23",
   "metadata": {},
   "outputs": [
    {
     "ename": "SyntaxError",
     "evalue": "invalid syntax (2767620361.py, line 3)",
     "output_type": "error",
     "traceback": [
      "\u001b[1;36m  Cell \u001b[1;32mIn[2], line 3\u001b[1;36m\u001b[0m\n\u001b[1;33m    if prompt == 'a' || prompt == 'e' || prompt == 'i' ||\u001b[0m\n\u001b[1;37m                      ^\u001b[0m\n\u001b[1;31mSyntaxError\u001b[0m\u001b[1;31m:\u001b[0m invalid syntax\n"
     ]
    }
   ],
   "source": [
    "# Question 3\n",
    "prompt = input (\"Enter an Alphabet : \")\n",
    "if prompt == 'a' || prompt == 'e' || prompt == 'i' ||\n",
    "prompt == 'o' || prompt == 'u':\n",
    "    print (\" You entered a vowel! \")\n",
    "elif prompt == 'y':\n",
    "    print (\"Y sometimes is a vowel and sometimes is a consonant\")\n",
    "else:\n",
    "    print (\"You entered a consonant! \")"
   ]
  },
  {
   "cell_type": "code",
   "execution_count": null,
   "id": "d8f061ff-3070-4289-8c39-961e0cb295f7",
   "metadata": {},
   "outputs": [],
   "source": [
    "# Question 5\n",
    "A = int(input(\"Enter length for A in right triangle: \"))\n",
    "\n",
    "B = int(input(\"Enter length for B in right triangle: \")\n",
    "h = ((A ** 2) + (B ** 2))**0.5\n",
    "print(\"The hypotenus is\", h)"
   ]
  },
  {
   "cell_type": "code",
   "execution_count": null,
   "id": "38b4bcfe-4fc2-4abf-8114-bbedbc923615",
   "metadata": {},
   "outputs": [],
   "source": []
  }
 ],
 "metadata": {
  "kernelspec": {
   "display_name": "Python 3 (ipykernel)",
   "language": "python",
   "name": "python3"
  },
  "language_info": {
   "codemirror_mode": {
    "name": "ipython",
    "version": 3
   },
   "file_extension": ".py",
   "mimetype": "text/x-python",
   "name": "python",
   "nbconvert_exporter": "python",
   "pygments_lexer": "ipython3",
   "version": "3.13.5"
  }
 },
 "nbformat": 4,
 "nbformat_minor": 5
}
