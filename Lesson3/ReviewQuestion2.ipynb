{
 "cells": [
  {
   "cell_type": "markdown",
   "id": "58ca8d49-68da-45a6-b670-13dec7d69bed",
   "metadata": {},
   "source": [
    "# Review Question 2\n"
   ]
  },
  {
   "cell_type": "code",
   "execution_count": 9,
   "id": "8653ff98-f6aa-4611-8ed1-829ad5c1d2ed",
   "metadata": {},
   "outputs": [
    {
     "name": "stdout",
     "output_type": "stream",
     "text": [
      "72 degrees F = 22.22 degrees C\n",
      "37 degrees C = 98.60 degrees F\n"
     ]
    }
   ],
   "source": [
    "\n",
    "def convert_cel_to_far(celsius):\n",
    "    return (celsius * 9/5) + 32\n",
    "    \n",
    "def convert_far_to_cel(fahrenheit):\n",
    "    return (fahrenheit - 32) * 5/9\n",
    "\n",
    "f = 72\n",
    "print(f\"{f} degrees F = {convert_far_to_cel(f):.2f} degrees C\")\n",
    "\n",
    "c = 37\n",
    "print(f\"{c} degrees C = {convert_cel_to_far(c):.2f} degrees F\")\n"
   ]
  },
  {
   "cell_type": "code",
   "execution_count": null,
   "id": "5387bc5f-6704-4248-ad2b-a5765bc30cb2",
   "metadata": {},
   "outputs": [],
   "source": []
  }
 ],
 "metadata": {
  "kernelspec": {
   "display_name": "Python 3 (ipykernel)",
   "language": "python",
   "name": "python3"
  },
  "language_info": {
   "codemirror_mode": {
    "name": "ipython",
    "version": 3
   },
   "file_extension": ".py",
   "mimetype": "text/x-python",
   "name": "python",
   "nbconvert_exporter": "python",
   "pygments_lexer": "ipython3",
   "version": "3.13.5"
  }
 },
 "nbformat": 4,
 "nbformat_minor": 5
}
