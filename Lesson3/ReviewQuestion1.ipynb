{
 "cells": [
  {
   "cell_type": "markdown",
   "id": "d6093655-ddbd-40fc-8b44-c55648a3968b",
   "metadata": {},
   "source": [
    "# Review Question 1"
   ]
  },
  {
   "cell_type": "code",
   "execution_count": 1,
   "id": "7befad85-5318-478d-a1b0-e673554cfb76",
   "metadata": {},
   "outputs": [
    {
     "name": "stdout",
     "output_type": "stream",
     "text": [
      "8\n",
      "27\n",
      "125\n"
     ]
    }
   ],
   "source": [
    "def cube(number):\n",
    "    return number ** 3\n",
    "\n",
    "print(cube(2))\n",
    "print(cube(3))\n",
    "print(cube(5)) \n"
   ]
  },
  {
   "cell_type": "code",
   "execution_count": 2,
   "id": "ba054295-6801-4e45-b247-659e16a0e76f",
   "metadata": {},
   "outputs": [
    {
     "name": "stdout",
     "output_type": "stream",
     "text": [
      "Hello Kiesser!\n",
      "Hello Bossa elnova!\n",
      "Hello Zigg!\n"
     ]
    }
   ],
   "source": [
    "def greet(name):\n",
    "    print(\"Hello \" + name + \"!\")\n",
    "\n",
    "greet(\"Kiesser\")\n",
    "greet(\"Bossa elnova\")\n",
    "greet(\"Zigg\")\n"
   ]
  }
 ],
 "metadata": {
  "kernelspec": {
   "display_name": "Python 3 (ipykernel)",
   "language": "python",
   "name": "python3"
  },
  "language_info": {
   "codemirror_mode": {
    "name": "ipython",
    "version": 3
   },
   "file_extension": ".py",
   "mimetype": "text/x-python",
   "name": "python",
   "nbconvert_exporter": "python",
   "pygments_lexer": "ipython3",
   "version": "3.13.5"
  }
 },
 "nbformat": 4,
 "nbformat_minor": 5
}
