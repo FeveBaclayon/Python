{
 "cells": [
  {
   "cell_type": "markdown",
   "id": "f76a36bf-0736-493f-b9ea-b413691e79ce",
   "metadata": {},
   "source": [
    "# Review Question 3"
   ]
  },
  {
   "cell_type": "code",
   "execution_count": 1,
   "id": "8abfa851-aecf-4c41-a081-2326d89f50a3",
   "metadata": {},
   "outputs": [
    {
     "name": "stdin",
     "output_type": "stream",
     "text": [
      "Enter a number:  8\n"
     ]
    },
    {
     "name": "stdout",
     "output_type": "stream",
     "text": [
      "The number rounded to two decimal places is: 8.0\n"
     ]
    }
   ],
   "source": [
    "user_input = float(input(\"Enter a number: \"))\n",
    "rounded_number = round(user_input, 2)\n",
    "print(f\"The number rounded to two decimal places is: {rounded_number}\")\n",
    "\n"
   ]
  },
  {
   "cell_type": "code",
   "execution_count": 2,
   "id": "a2538a68-efd6-4459-8c94-801c3eea61e1",
   "metadata": {},
   "outputs": [
    {
     "name": "stdin",
     "output_type": "stream",
     "text": [
      "Enter a number:  9\n"
     ]
    },
    {
     "name": "stdout",
     "output_type": "stream",
     "text": [
      "The absolute value of 9.0 is: 9.0\n"
     ]
    }
   ],
   "source": [
    "user_input = float(input(\"Enter a number: \"))\n",
    "absolute_value = abs(user_input)\n",
    "print(f\"The absolute value of {user_input} is: {absolute_value}\")\n",
    "\n"
   ]
  },
  {
   "cell_type": "code",
   "execution_count": null,
   "id": "bd24bb63-977d-4c38-9acc-563f58f08df7",
   "metadata": {},
   "outputs": [],
   "source": []
  }
 ],
 "metadata": {
  "kernelspec": {
   "display_name": "Python 3 (ipykernel)",
   "language": "python",
   "name": "python3"
  },
  "language_info": {
   "codemirror_mode": {
    "name": "ipython",
    "version": 3
   },
   "file_extension": ".py",
   "mimetype": "text/x-python",
   "name": "python",
   "nbconvert_exporter": "python",
   "pygments_lexer": "ipython3",
   "version": "3.13.5"
  }
 },
 "nbformat": 4,
 "nbformat_minor": 5
}
