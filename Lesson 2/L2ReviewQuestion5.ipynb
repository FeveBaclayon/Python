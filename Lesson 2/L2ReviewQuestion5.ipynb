{
 "cells": [
  {
   "cell_type": "markdown",
   "id": "63970670-9748-40ee-941b-92cc3b356cc4",
   "metadata": {},
   "source": [
    "# Review Question 5"
   ]
  },
  {
   "cell_type": "code",
   "execution_count": 4,
   "id": "3a34d546-b29d-45be-8633-0d3376bf14c1",
   "metadata": {},
   "outputs": [
    {
     "name": "stdout",
     "output_type": "stream",
     "text": [
      "The result of 3 ** 0.125 is: 1.147\n"
     ]
    }
   ],
   "source": [
    "result = 3 ** 0.125\n",
    "\n",
    "print(f\"The result of 3 ** 0.125 is: {result:.3f}\")\n"
   ]
  },
  {
   "cell_type": "code",
   "execution_count": 5,
   "id": "94d0fbe4-33a6-4558-b158-8251c16424bb",
   "metadata": {},
   "outputs": [
    {
     "name": "stdout",
     "output_type": "stream",
     "text": [
      "$150,000.00\n"
     ]
    }
   ],
   "source": [
    "number = 150000\n",
    "\n",
    "formatted_currency = f\"${number:,.2f}\"\n",
    "\n",
    "print(formatted_currency)\n",
    "\n"
   ]
  },
  {
   "cell_type": "code",
   "execution_count": 6,
   "id": "520eeed7-7e56-4fec-b70d-fb6cb18774ee",
   "metadata": {},
   "outputs": [
    {
     "name": "stdout",
     "output_type": "stream",
     "text": [
      "20%\n"
     ]
    }
   ],
   "source": [
    "result = (2 / 10) * 100\n",
    "\n",
    "print(f\"{result:.0f}%\")"
   ]
  },
  {
   "cell_type": "code",
   "execution_count": null,
   "id": "fb44cb99-b7e8-4751-8640-8ceea8fc993e",
   "metadata": {},
   "outputs": [],
   "source": []
  }
 ],
 "metadata": {
  "kernelspec": {
   "display_name": "Python 3 (ipykernel)",
   "language": "python",
   "name": "python3"
  },
  "language_info": {
   "codemirror_mode": {
    "name": "ipython",
    "version": 3
   },
   "file_extension": ".py",
   "mimetype": "text/x-python",
   "name": "python",
   "nbconvert_exporter": "python",
   "pygments_lexer": "ipython3",
   "version": "3.13.5"
  }
 },
 "nbformat": 4,
 "nbformat_minor": 5
}
