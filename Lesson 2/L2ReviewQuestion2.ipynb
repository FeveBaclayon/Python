{
 "cells": [
  {
   "cell_type": "markdown",
   "id": "491d0781-4a8e-415d-8989-08aa7727919d",
   "metadata": {},
   "source": [
    "# Review Question 2"
   ]
  },
  {
   "cell_type": "code",
   "execution_count": 2,
   "id": "a377cffb-3a02-40b4-a38d-b43e4efe0499",
   "metadata": {},
   "outputs": [
    {
     "name": "stdin",
     "output_type": "stream",
     "text": [
      "Enter the base number:  1.0\n",
      "Enter the exponent number:  5\n"
     ]
    },
    {
     "name": "stdout",
     "output_type": "stream",
     "text": [
      "1.0 raised to the power of 5.0 is: 1.0\n"
     ]
    }
   ],
   "source": [
    "base = float(input(\"Enter the base number: \")) \n",
    "exponent = float(input(\"Enter the exponent number: \")) \n",
    "\n",
    "result = base ** exponent\n",
    "\n",
    "print(f\"{base} raised to the power of {exponent} is: {result}\")\n"
   ]
  },
  {
   "cell_type": "code",
   "execution_count": 3,
   "id": "0dd128de-c202-4aa8-9cf1-84d0de489eeb",
   "metadata": {},
   "outputs": [
    {
     "name": "stdin",
     "output_type": "stream",
     "text": [
      "Enter a number:  -10.0\n"
     ]
    },
    {
     "name": "stdout",
     "output_type": "stream",
     "text": [
      "Absolute value of -10.0 is 10.0\n"
     ]
    }
   ],
   "source": [
    "#Absolute Value\n",
    "num = float(input(\"Enter a number: \")) \n",
    "print(f\"Absolute value of {num} is {abs(num)}\")\n"
   ]
  },
  {
   "cell_type": "code",
   "execution_count": null,
   "id": "cae0a692-cba1-414c-a6ec-2a72a2c10028",
   "metadata": {},
   "outputs": [],
   "source": []
  }
 ],
 "metadata": {
  "kernelspec": {
   "display_name": "Python 3 (ipykernel)",
   "language": "python",
   "name": "python3"
  },
  "language_info": {
   "codemirror_mode": {
    "name": "ipython",
    "version": 3
   },
   "file_extension": ".py",
   "mimetype": "text/x-python",
   "name": "python",
   "nbconvert_exporter": "python",
   "pygments_lexer": "ipython3",
   "version": "3.13.5"
  }
 },
 "nbformat": 4,
 "nbformat_minor": 5
}
