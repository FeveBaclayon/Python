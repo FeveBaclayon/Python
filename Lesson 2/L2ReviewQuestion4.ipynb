{
 "cells": [
  {
   "cell_type": "markdown",
   "id": "2bb033d3-74c7-4bc3-8517-c79d648919cc",
   "metadata": {},
   "source": [
    "# Review Question 4"
   ]
  },
  {
   "cell_type": "code",
   "execution_count": 1,
   "id": "5aef3f5e-2b75-4749-a4aa-d9a9011a2081",
   "metadata": {},
   "outputs": [
    {
     "name": "stdin",
     "output_type": "stream",
     "text": [
      "Enter the first number:  5\n",
      "Enter the second number:  10\n"
     ]
    },
    {
     "name": "stdout",
     "output_type": "stream",
     "text": [
      "The difference -5.0 is an integer.\n"
     ]
    }
   ],
   "source": [
    "num1 = float(input(\"Enter the first number: \"))\n",
    "num2 = float(input(\"Enter the second number: \"))\n",
    "difference = num1 - num2\n",
    "\n",
    "if difference.is_integer():\n",
    "    print(f\"The difference {difference} is an integer.\")\n",
    "else:\n",
    "    print(f\"The difference {difference} is not an integer.\")\n"
   ]
  },
  {
   "cell_type": "code",
   "execution_count": null,
   "id": "714ad217-d085-4cb7-818b-c4b037b56552",
   "metadata": {},
   "outputs": [],
   "source": []
  }
 ],
 "metadata": {
  "kernelspec": {
   "display_name": "Python 3 (ipykernel)",
   "language": "python",
   "name": "python3"
  },
  "language_info": {
   "codemirror_mode": {
    "name": "ipython",
    "version": 3
   },
   "file_extension": ".py",
   "mimetype": "text/x-python",
   "name": "python",
   "nbconvert_exporter": "python",
   "pygments_lexer": "ipython3",
   "version": "3.13.5"
  }
 },
 "nbformat": 4,
 "nbformat_minor": 5
}
