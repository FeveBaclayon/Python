{
 "cells": [
  {
   "cell_type": "markdown",
   "id": "e9aed91f-b26f-40aa-ae7f-a5700aa39088",
   "metadata": {},
   "source": [
    "# Review Question 1"
   ]
  },
  {
   "cell_type": "code",
   "execution_count": 6,
   "id": "d007285f-09ae-48ba-bc39-dffbb2ae06ed",
   "metadata": {},
   "outputs": [
    {
     "name": "stdout",
     "output_type": "stream",
     "text": [
      "25000000\n",
      "25000000\n"
     ]
    }
   ],
   "source": [
    "num1 = 25_000_000\n",
    "num2 = 25000000\n",
    "\n",
    "print(num1)\n",
    "print(num2)\n"
   ]
  },
  {
   "cell_type": "code",
   "execution_count": 9,
   "id": "a2e73528-221a-4d56-a8e0-fa059d830e27",
   "metadata": {},
   "outputs": [
    {
     "name": "stdout",
     "output_type": "stream",
     "text": [
      "175000.0\n"
     ]
    }
   ],
   "source": [
    "num = 1.75e5  \n",
    "print(num)\n"
   ]
  },
  {
   "cell_type": "code",
   "execution_count": 10,
   "id": "5ddd5d4c-a2d0-48e6-9029-09c5c5278bb1",
   "metadata": {},
   "outputs": [
    {
     "name": "stdout",
     "output_type": "stream",
     "text": [
      "inf\n"
     ]
    }
   ],
   "source": [
    "print (2e308)"
   ]
  },
  {
   "cell_type": "code",
   "execution_count": null,
   "id": "43554987-a31b-4b75-8fba-93bf97b0f40a",
   "metadata": {},
   "outputs": [],
   "source": []
  }
 ],
 "metadata": {
  "kernelspec": {
   "display_name": "Python 3 (ipykernel)",
   "language": "python",
   "name": "python3"
  },
  "language_info": {
   "codemirror_mode": {
    "name": "ipython",
    "version": 3
   },
   "file_extension": ".py",
   "mimetype": "text/x-python",
   "name": "python",
   "nbconvert_exporter": "python",
   "pygments_lexer": "ipython3",
   "version": "3.13.5"
  }
 },
 "nbformat": 4,
 "nbformat_minor": 5
}
