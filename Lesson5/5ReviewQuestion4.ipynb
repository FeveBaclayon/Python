{
 "cells": [
  {
   "cell_type": "markdown",
   "id": "73aa8b98-30e0-4a6a-ac7f-3876e5fcdd4d",
   "metadata": {},
   "source": [
    "# Review Question 4"
   ]
  },
  {
   "cell_type": "code",
   "execution_count": 10,
   "id": "040cd791-a868-44dd-866b-dcfa0781c21f",
   "metadata": {},
   "outputs": [],
   "source": [
    "captains = {}"
   ]
  },
  {
   "cell_type": "code",
   "execution_count": 11,
   "id": "145586be-fa00-4744-bf24-9c61ac3ec45d",
   "metadata": {},
   "outputs": [],
   "source": [
    "captains['Enterprise'] = 'Picard'\n",
    "captains['Voyager'] = 'Janeway'\n",
    "captains['Defiant'] = 'Sisko'\n"
   ]
  },
  {
   "cell_type": "code",
   "execution_count": 12,
   "id": "22defd4f-105a-4761-bb74-9878c2430fbd",
   "metadata": {},
   "outputs": [],
   "source": [
    "if 'Enterprise' not in captains:\n",
    "    captains['Enterprise'] = 'Unknown'\n",
    "\n",
    "if 'Discovery' not in captains:\n",
    "    captains['Discovery'] = 'Unknown"
   ]
  },
  {
   "cell_type": "code",
   "execution_count": 13,
   "id": "08af5026-2b81-47ea-8e07-a1aafc0b65a4",
   "metadata": {},
   "outputs": [
    {
     "name": "stdout",
     "output_type": "stream",
     "text": [
      "The Enterprise is captained by Picard.\n",
      "The Voyager is captained by Janeway.\n",
      "The Defiant is captained by Sisko.\n"
     ]
    }
   ],
   "source": [
    "for ship, captain in captains.items():\n",
    "    print(f\"The {ship} is captained by {captain}.\")"
   ]
  },
  {
   "cell_type": "code",
   "execution_count": 15,
   "id": "9c75477a-ee89-48cb-b4e4-fc6dd1fdac48",
   "metadata": {},
   "outputs": [
    {
     "name": "stdout",
     "output_type": "stream",
     "text": [
      "The Enterprise is captained by Picard.\n",
      "The Voyager is captained by Janeway.\n",
      "The Defiant is captained by Sisko.\n"
     ]
    }
   ],
   "source": [
    "if 'Discovery' in captains:\n",
    "    del captains['Discovery']\n",
    "    print(\"\\nAfter deleting Discovery:\")\n",
    "for ship, captain in captains.items():\n",
    "    print(f\"The {ship} is captained by {captain}.\")"
   ]
  },
  {
   "cell_type": "code",
   "execution_count": 16,
   "id": "d8263045-8b55-4ed4-8f3a-d0b33655505b",
   "metadata": {},
   "outputs": [
    {
     "name": "stdout",
     "output_type": "stream",
     "text": [
      "\n",
      "Dictionary created with dict():\n",
      "The Enterprise is captained by Picard.\n",
      "The Voyager is captained by Janeway.\n",
      "The Defiant is captained by Sisko.\n"
     ]
    }
   ],
   "source": [
    "captains2 = dict(Enterprise='Picard', Voyager='Janeway', Defiant='Sisko')\n",
    "\n",
    "print(\"\\nDictionary created with dict():\")\n",
    "for ship, captain in captains2.items():\n",
    "    print(f\"The {ship} is captained by {captain}.\")"
   ]
  },
  {
   "cell_type": "markdown",
   "id": "7dac35ce-3498-4340-8e60-f1f65d08fe43",
   "metadata": {},
   "source": [
    "# Challenge: CAPITAL CITY LOOP"
   ]
  },
  {
   "cell_type": "code",
   "execution_count": null,
   "id": "13ea25a2-03d4-43a2-93a7-38fac3023c3c",
   "metadata": {},
   "outputs": [],
   "source": []
  }
 ],
 "metadata": {
  "kernelspec": {
   "display_name": "Python 3 (ipykernel)",
   "language": "python",
   "name": "python3"
  },
  "language_info": {
   "codemirror_mode": {
    "name": "ipython",
    "version": 3
   },
   "file_extension": ".py",
   "mimetype": "text/x-python",
   "name": "python",
   "nbconvert_exporter": "python",
   "pygments_lexer": "ipython3",
   "version": "3.13.5"
  }
 },
 "nbformat": 4,
 "nbformat_minor": 5
}
