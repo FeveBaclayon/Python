{
 "cells": [
  {
   "cell_type": "markdown",
   "id": "cc05ed1f-b8f1-465a-b60a-ed2f440ee961",
   "metadata": {},
   "source": [
    "# Revuiew Question 2"
   ]
  },
  {
   "cell_type": "code",
   "execution_count": 9,
   "id": "b09f1abf-5595-4e0b-97fd-5654777ab29a",
   "metadata": {},
   "outputs": [
    {
     "data": {
      "text/plain": [
       "['Rice', 'Beans']"
      ]
     },
     "execution_count": 9,
     "metadata": {},
     "output_type": "execute_result"
    }
   ],
   "source": [
    "food = [\"Rice\", \"Beans\"]\n",
    "food"
   ]
  },
  {
   "cell_type": "code",
   "execution_count": 10,
   "id": "eb915e32-64c2-4e6b-8e44-8979a7c0d429",
   "metadata": {},
   "outputs": [
    {
     "data": {
      "text/plain": [
       "['Rice', 'Beans', 'Broccoli']"
      ]
     },
     "execution_count": 10,
     "metadata": {},
     "output_type": "execute_result"
    }
   ],
   "source": [
    "food.append(\"Broccoli\")\n",
    "food"
   ]
  },
  {
   "cell_type": "code",
   "execution_count": 11,
   "id": "7cc2b3b0-6ab3-44bc-b23f-84ee8e1716a5",
   "metadata": {},
   "outputs": [
    {
     "data": {
      "text/plain": [
       "['Rice', 'Beans', 'Broccoli', 'Bread', 'Pizza']"
      ]
     },
     "execution_count": 11,
     "metadata": {},
     "output_type": "execute_result"
    }
   ],
   "source": [
    "food.extend([\"Bread\", \"Pizza\"])\n",
    "food"
   ]
  },
  {
   "cell_type": "code",
   "execution_count": 12,
   "id": "cf522d70-58e0-4d69-9537-2afe4b007fc9",
   "metadata": {},
   "outputs": [
    {
     "name": "stdout",
     "output_type": "stream",
     "text": [
      "First two items: ['Rice', 'Beans']\n"
     ]
    }
   ],
   "source": [
    "print(\"First two items:\", food[:2])"
   ]
  },
  {
   "cell_type": "code",
   "execution_count": 13,
   "id": "44e209b5-0e5d-42ce-9f87-14c2f63955c9",
   "metadata": {},
   "outputs": [
    {
     "name": "stdout",
     "output_type": "stream",
     "text": [
      "Last item: Pizza\n"
     ]
    },
    {
     "data": {
      "text/plain": [
       "['Rice', 'Beans', 'Broccoli', 'Bread', 'Pizza']"
      ]
     },
     "execution_count": 13,
     "metadata": {},
     "output_type": "execute_result"
    }
   ],
   "source": [
    "print(\"Last item:\", food[-1])\n",
    "food"
   ]
  },
  {
   "cell_type": "code",
   "execution_count": 15,
   "id": "83e909f5-1cb3-4737-8190-bd65edfe3b0b",
   "metadata": {},
   "outputs": [
    {
     "data": {
      "text/plain": [
       "['Eggs', 'Fruit', 'Orange Juice']"
      ]
     },
     "execution_count": 15,
     "metadata": {},
     "output_type": "execute_result"
    }
   ],
   "source": [
    "breakfast = \"Eggs, Fruit, Orange Juice\".split(\", \")\n",
    "breakfast"
   ]
  },
  {
   "cell_type": "code",
   "execution_count": 16,
   "id": "a8214172-b683-4b97-b102-1210240371ac",
   "metadata": {},
   "outputs": [
    {
     "name": "stdout",
     "output_type": "stream",
     "text": [
      "Number of breakfast items: 3\n"
     ]
    },
    {
     "data": {
      "text/plain": [
       "['Eggs', 'Fruit', 'Orange Juice']"
      ]
     },
     "execution_count": 16,
     "metadata": {},
     "output_type": "execute_result"
    }
   ],
   "source": [
    "print(\"Number of breakfast items:\", len(breakfast))\n",
    "breakfast"
   ]
  },
  {
   "cell_type": "code",
   "execution_count": 17,
   "id": "5621195c-736e-4df5-8371-82eb59a027fb",
   "metadata": {},
   "outputs": [
    {
     "name": "stdout",
     "output_type": "stream",
     "text": [
      "Lengths of breakfast items: [4, 5, 12]\n"
     ]
    }
   ],
   "source": [
    "lengths = [len(item) for item in breakfast]\n",
    "print(\"Lengths of breakfast items:\", lengths)\n"
   ]
  },
  {
   "cell_type": "code",
   "execution_count": null,
   "id": "67afa8b6-89aa-41c1-8e66-514dc0817dc6",
   "metadata": {},
   "outputs": [],
   "source": []
  }
 ],
 "metadata": {
  "kernelspec": {
   "display_name": "Python 3 (ipykernel)",
   "language": "python",
   "name": "python3"
  },
  "language_info": {
   "codemirror_mode": {
    "name": "ipython",
    "version": 3
   },
   "file_extension": ".py",
   "mimetype": "text/x-python",
   "name": "python",
   "nbconvert_exporter": "python",
   "pygments_lexer": "ipython3",
   "version": "3.13.5"
  }
 },
 "nbformat": 4,
 "nbformat_minor": 5
}
