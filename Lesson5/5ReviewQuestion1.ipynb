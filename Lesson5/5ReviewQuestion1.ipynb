{
 "cells": [
  {
   "cell_type": "markdown",
   "id": "24a7cc0c-292c-4d3d-a4f8-4a0aab29a253",
   "metadata": {},
   "source": [
    "# Review Question 1"
   ]
  },
  {
   "cell_type": "code",
   "execution_count": 1,
   "id": "65c9f048-5dae-47cf-a6cd-2fa27934c39d",
   "metadata": {},
   "outputs": [
    {
     "name": "stdout",
     "output_type": "stream",
     "text": [
      "SECOND\n"
     ]
    }
   ],
   "source": [
    "cardinal_numbers = (\"FIRST\", \"SECOND\", \"THIRD\")\n",
    "print(cardinal_numbers[1])  "
   ]
  },
  {
   "cell_type": "code",
   "execution_count": 2,
   "id": "9999e52b-8f61-401b-afe3-11b7556b89a4",
   "metadata": {},
   "outputs": [
    {
     "name": "stdout",
     "output_type": "stream",
     "text": [
      "The string index is at index 1 SECOND\n"
     ]
    }
   ],
   "source": [
    "print(\"The string index is at index 1\",cardinal_numbers[1])"
   ]
  },
  {
   "cell_type": "code",
   "execution_count": 3,
   "id": "dfe31fa2-7e74-4977-95bb-08898898f2a0",
   "metadata": {},
   "outputs": [
    {
     "name": "stdout",
     "output_type": "stream",
     "text": [
      "FIRST\n",
      "SECOND\n",
      "THIRD\n"
     ]
    }
   ],
   "source": [
    "position1, position2, position3 = cardinal_numbers\n",
    "\n",
    "print(position1)\n",
    "print(position2)\n",
    "print(position3)"
   ]
  },
  {
   "cell_type": "code",
   "execution_count": 5,
   "id": "e59c1814-9621-4140-b670-706957ed8ba7",
   "metadata": {},
   "outputs": [
    {
     "name": "stdout",
     "output_type": "stream",
     "text": [
      "('L', 'a', 'n', 'c', 'e')\n"
     ]
    }
   ],
   "source": [
    "my_name = tuple(\"Lance\")   \n",
    "print(my_name)"
   ]
  },
  {
   "cell_type": "code",
   "execution_count": 6,
   "id": "098bb1c7-defb-426a-a3ea-1c3576f2aa75",
   "metadata": {},
   "outputs": [
    {
     "name": "stdout",
     "output_type": "stream",
     "text": [
      "False\n"
     ]
    }
   ],
   "source": [
    "print(\"X\" in my_name)\n"
   ]
  },
  {
   "cell_type": "code",
   "execution_count": 7,
   "id": "1e271280-fc5b-44c6-a401-264f2d120269",
   "metadata": {},
   "outputs": [
    {
     "name": "stdout",
     "output_type": "stream",
     "text": [
      "('a', 'n', 'c', 'e')\n"
     ]
    }
   ],
   "source": [
    "new_tuple = my_name[1:]\n",
    "print(new_tuple)"
   ]
  }
 ],
 "metadata": {
  "kernelspec": {
   "display_name": "Python 3 (ipykernel)",
   "language": "python",
   "name": "python3"
  },
  "language_info": {
   "codemirror_mode": {
    "name": "ipython",
    "version": 3
   },
   "file_extension": ".py",
   "mimetype": "text/x-python",
   "name": "python",
   "nbconvert_exporter": "python",
   "pygments_lexer": "ipython3",
   "version": "3.13.5"
  }
 },
 "nbformat": 4,
 "nbformat_minor": 5
}
