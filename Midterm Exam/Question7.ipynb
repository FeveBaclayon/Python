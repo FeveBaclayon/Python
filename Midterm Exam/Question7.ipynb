{
 "cells": [
  {
   "cell_type": "markdown",
   "id": "b3b74ac3-1e98-44ef-8ac9-03c69fc0a1bc",
   "metadata": {},
   "source": [
    "# Question 7\n",
    "OOP: Vehicles with Odometer and Fuel. Design classes Vehicle (base),\n",
    "Car and Truck (children). Each has color, mileage, and fuel_liters. Provide\n",
    "drive(km, km_per_liter) which increments mileage and decreases fuel (never below 0) and refuel(liters). Show how inheritance avoids duplication and add\n",
    "a method override in Truck (e.g., different efficiency). Include a minimal test\n",
    "script. Anchor concepts: classes vs. instances, attributes, instance methods, inheritance/override. Reference: :contentReference[oaicite:13]index=13\n",
    "\n",
    "# Prompt (Paste Verbatim)\n",
    "Write Python classes Vehicle, Car, and Truck where:\n",
    "Each has attributes: color, mileage, and fuel_liters.\n",
    "Method drive(km, km_per_liter) increases mileage and decreases fuel. Fuel cannot go below zero.\n",
    "Method refuel(liters) adds to fuel_liters.\n",
    "Truck overrides drive() to be less fuel efficient (e.g., consumes 20% more fuel).\n",
    "Include a minimal test that demonstrates inheritance and overriding.\n",
    "\n",
    "# Critique\n",
    "Correctness:\n",
    "Implements inheritance and overriding correctly. Truck’s drive consumes more fuel, fulfilling override requirement. Fuel never goes below zero. Works for both Car and Truck.\n",
    "\n",
    "Complexity:\n",
    "All methods run in O(1) time and use O(1) space.\n",
    "\n",
    "Robustness:\n",
    "Could add input validation (e.g., non-negative km or liters). No error handling for bad inputs.\n",
    "\n",
    "Readability:\n",
    "Code is clear and PEP 8 compliant. Adding docstrings and comments would further improve clarity.\n",
    "\n",
    "Faithfulness:\n",
    "Demonstrates inheritance, method overriding, and instance behavior differences exactly as required."
   ]
  },
  {
   "cell_type": "code",
   "execution_count": 9,
   "id": "1fe5c018-0552-4463-8b67-a10f860e1592",
   "metadata": {},
   "outputs": [
    {
     "name": "stdout",
     "output_type": "stream",
     "text": [
      "Car -> mileage: 12100, fuel: 30.0\n",
      "Truck -> mileage: 8100, fuel: 87.5\n",
      "Car refueled -> fuel: 40.0\n"
     ]
    }
   ],
   "source": [
    "# Improved Code\n",
    "class Vehicle:\n",
    "    \"\"\"Base class representing a general vehicle with mileage and fuel tracking.\"\"\"\n",
    "    def __init__(self, color: str, mileage: float, fuel_liters: float):\n",
    "        self.color = color\n",
    "        self.mileage = mileage\n",
    "        self.fuel_liters = fuel_liters\n",
    "\n",
    "    def drive(self, km: float, km_per_liter: float) -> None:\n",
    "        \"\"\"Drive the vehicle for a given distance, reducing fuel accordingly.\"\"\"\n",
    "        fuel_needed = km / km_per_liter\n",
    "        if fuel_needed > self.fuel_liters:\n",
    "            km = self.fuel_liters * km_per_liter\n",
    "            fuel_needed = self.fuel_liters\n",
    "        self.mileage += km\n",
    "        self.fuel_liters -= fuel_needed\n",
    "\n",
    "    def refuel(self, liters: float) -> None:\n",
    "        \"\"\"Add fuel to the vehicle.\"\"\"\n",
    "        self.fuel_liters += liters\n",
    "\n",
    "\n",
    "class Car(Vehicle):\n",
    "    \"\"\"Car inherits all behavior from Vehicle.\"\"\"\n",
    "    pass\n",
    "\n",
    "\n",
    "class Truck(Vehicle):\n",
    "    \"\"\"Truck uses 20% more fuel per kilometer (less efficient).\"\"\"\n",
    "    def drive(self, km: float, km_per_liter: float) -> None:\n",
    "        adjusted_efficiency = km_per_liter * 0.8  # 20% less efficient\n",
    "        super().drive(km, adjusted_efficiency)\n",
    "\n",
    "\n",
    "if __name__ == \"__main__\":\n",
    "    car = Car(\"Red\", 12000, 40)\n",
    "    truck = Truck(\"Blue\", 8000, 100)\n",
    "\n",
    "    car.drive(100, 10)\n",
    "    truck.drive(100, 10)\n",
    "\n",
    "    print(f\"Car -> mileage: {car.mileage}, fuel: {car.fuel_liters:.1f}\")\n",
    "    print(f\"Truck -> mileage: {truck.mileage}, fuel: {truck.fuel_liters:.1f}\")\n",
    "\n",
    "    car.refuel(10)\n",
    "    print(f\"Car refueled -> fuel: {car.fuel_liters}\")\n"
   ]
  },
  {
   "cell_type": "code",
   "execution_count": 6,
   "id": "339c1af5-0f16-49e4-b95e-17e69d93eb2e",
   "metadata": {},
   "outputs": [
    {
     "name": "stdout",
     "output_type": "stream",
     "text": [
      "Car: mileage=10100, fuel=40.0\n",
      "Truck: mileage=5100, fuel=67.5\n",
      "Car after refuel: fuel=60.0\n"
     ]
    }
   ],
   "source": [
    "# ChatGPT Code\n",
    "class Vehicle:\n",
    "    def __init__(self, color, mileage, fuel_liters):\n",
    "        self.color = color\n",
    "        self.mileage = mileage\n",
    "        self.fuel_liters = fuel_liters\n",
    "\n",
    "    def drive(self, km, km_per_liter):\n",
    "        fuel_needed = km / km_per_liter\n",
    "        if fuel_needed > self.fuel_liters:\n",
    "            km = self.fuel_liters * km_per_liter\n",
    "            fuel_needed = self.fuel_liters\n",
    "        self.mileage += km\n",
    "        self.fuel_liters -= fuel_needed\n",
    "\n",
    "    def refuel(self, liters):\n",
    "        self.fuel_liters += liters\n",
    "\n",
    "\n",
    "class Car(Vehicle):\n",
    "    pass\n",
    "\n",
    "\n",
    "class Truck(Vehicle):\n",
    "    def drive(self, km, km_per_liter):\n",
    "        # Trucks are 20% less fuel efficient\n",
    "        adjusted_efficiency = km_per_liter * 0.8\n",
    "        super().drive(km, adjusted_efficiency)\n",
    "\n",
    "\n",
    "# --- Minimal Test Script ---\n",
    "if __name__ == \"__main__\":\n",
    "    car = Car(\"red\", 10000, 50)\n",
    "    truck = Truck(\"blue\", 5000, 80)\n",
    "\n",
    "    car.drive(100, 10)     # 10L fuel used\n",
    "    truck.drive(100, 10)   # 12.5L fuel used (20% less efficient)\n",
    "\n",
    "    print(f\"Car: mileage={car.mileage}, fuel={car.fuel_liters:.1f}\")\n",
    "    print(f\"Truck: mileage={truck.mileage}, fuel={truck.fuel_liters:.1f}\")\n",
    "\n",
    "    car.refuel(20)\n",
    "    print(f\"Car after refuel: fuel={car.fuel_liters}\")\n"
   ]
  }
 ],
 "metadata": {
  "kernelspec": {
   "display_name": "Python [conda env:base] *",
   "language": "python",
   "name": "conda-base-py"
  },
  "language_info": {
   "codemirror_mode": {
    "name": "ipython",
    "version": 3
   },
   "file_extension": ".py",
   "mimetype": "text/x-python",
   "name": "python",
   "nbconvert_exporter": "python",
   "pygments_lexer": "ipython3",
   "version": "3.13.5"
  }
 },
 "nbformat": 4,
 "nbformat_minor": 5
}
