{
 "cells": [
  {
   "cell_type": "markdown",
   "id": "6c5d8147-5866-4381-97e8-c2087a686361",
   "metadata": {},
   "source": [
    "# Question 2\n",
    "Task: Generalize our leetspeak idea: write translate(text:\n",
    "str, mapping: dict[str,str]) -> str that applies a mapping (e.g., {’a’:’4’,’e’:’3’,...})\n",
    "over lowercase letters only, leaving others unchanged. Explain why strings are immutable and show an efficient approach (e.g., list join vs. repeated concatenation).\n",
    "Anchor concepts: replace, iteration strategies, efficiency. Reference: :contentReference[oaicite:7]index=7\n",
    "\n",
    "# Prompt (Paste Verbatim)\n",
    "Write a Python function translate(text, mapping) that replaces lowercase letters\n",
    "in text according to mapping (for example, {'a':'4','e':'3'}), leaving other\n",
    "characters unchanged. Return the translated string. Add a test.\n",
    "\n",
    "# Critique \n",
    " Correctness: Works for lowercase substitutions; leaves other characters unchanged. Does not explicitly ignore uppercase letters still works since only lowercase keys exist in mapping.\n",
    " Output for \"hello world\" → \"h3ll0 w0rld\" is correct.\n",
    "\n",
    " Time & Space Complexity:\n",
    "Time: O(n²) in worst case because of repeated string concatenation (result += ... creates a new string each time).\n",
    "Space: O(n) for the final string, but intermediate copies increase memory overhead. Inefficient for long strings — violates lecture guidance on immutability overhead.\n",
    "\n",
    " Robustness:\n",
    "\n",
    "No type checking for mapping or text.\n",
    "Works fine for empty string and missing keys.\n",
    "Wold fail gracefully if mapping keys are non-strings, but that’s outside normal usage.\n",
    "\n",
    " Readability / Style:\n",
    "\n",
    "Follows PEP 8 naming.\n",
    "Missing docstring.\n",
    "Should explain why join() is more efficient than repeated += for immutable strings.\n",
    "Faithfulness to Lecture:\n",
    "Uses basic iteration correctly but ignores immutability cost.\n",
    "Lecture emphasized efficient construction via list accumulation then \"\".join()\n"
   ]
  },
  {
   "cell_type": "code",
   "execution_count": 6,
   "id": "64c46386-c014-47dd-a30f-5ef4d92fe1aa",
   "metadata": {},
   "outputs": [
    {
     "name": "stdout",
     "output_type": "stream",
     "text": [
      "All tests passed.\n"
     ]
    }
   ],
   "source": [
    "# Improved Code\n",
    "def translate(text: str, mapping: dict[str, str]) -> str:\n",
    "    \"\"\"\n",
    "    Translate lowercase letters in `text` according to `mapping`.\n",
    "    Other characters remain unchanged.\n",
    "    Efficiently builds the new string using list join.\n",
    "    \"\"\"\n",
    "    if not isinstance(text, str):\n",
    "        raise TypeError(\"text must be a string\")\n",
    "    if not isinstance(mapping, dict):\n",
    "        raise TypeError(\"mapping must be a dictionary\")\n",
    "\n",
    "   \n",
    "    translated_chars = []\n",
    "    for ch in text:\n",
    "        translated_chars.append(mapping.get(ch, ch))\n",
    "    return \"\".join(translated_chars)\n",
    "\n",
    "\n",
    "\n",
    "if __name__ == \"__main__\":\n",
    "    leet_map = {'a':'4','e':'3','i':'1','o':'0','s':'5'}\n",
    "    assert translate(\"hello world\", leet_map) == \"h3ll0 w0rld\"\n",
    "    assert translate(\"LeetSpeak\", leet_map) == \"L33tSp34k\"  \n",
    "    assert translate(\"\", leet_map) == \"\"\n",
    "    print(\"All tests passed.\")\n"
   ]
  },
  {
   "cell_type": "code",
   "execution_count": 4,
   "id": "d7383301-d646-4811-ae8a-6c26d5871a18",
   "metadata": {},
   "outputs": [
    {
     "name": "stdout",
     "output_type": "stream",
     "text": [
      "h3ll0 w0rld\n"
     ]
    }
   ],
   "source": [
    "# Chat GPT Code\n",
    "def translate(text, mapping):\n",
    "    result = \"\"\n",
    "    for ch in text:\n",
    "        if ch in mapping:\n",
    "            result += mapping[ch]\n",
    "        else:\n",
    "            result += ch\n",
    "    return result\n",
    "\n",
    "print(translate(\"hello world\", {'a':'4','e':'3','i':'1','o':'0','s':'5'}))\n"
   ]
  }
 ],
 "metadata": {
  "kernelspec": {
   "display_name": "Python [conda env:base] *",
   "language": "python",
   "name": "conda-base-py"
  },
  "language_info": {
   "codemirror_mode": {
    "name": "ipython",
    "version": 3
   },
   "file_extension": ".py",
   "mimetype": "text/x-python",
   "name": "python",
   "nbconvert_exporter": "python",
   "pygments_lexer": "ipython3",
   "version": "3.13.5"
  }
 },
 "nbformat": 4,
 "nbformat_minor": 5
}
