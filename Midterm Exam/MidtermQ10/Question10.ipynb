{
 "cells": [
  {
   "cell_type": "markdown",
   "id": "e313ea21-237f-45c7-be8e-887b6a4145a5",
   "metadata": {},
   "source": [
    "# Question 10\n",
    "Robust Temperature Converter (Functions + Exceptions). Write two functions: cel_to_far(c) and far_to_cel(f) with type hints and docstrings. Build a CLI that asks the user which direction to convert and validates input (gracefully handles bad entries). Include unit tests (doctest or simple asserts) covering typical and edge cases (e.g., -40). Anchor concepts: writing functions, control flow, input handling, testing.\n",
    "\n",
    "# Prompt (Paste Verbatim)\n",
    "Write two Python functions, cel_to_far(c) and far_to_cel(f), that convert between Celsius and Fahrenheit using the formulas:\n",
    "F = C × 9/5 + 32\n",
    "C = (F − 32) × 5/9\n",
    "Include type hints and docstrings.\n",
    "Then, build a CLI that asks the user for a conversion direction and value, handles bad input with exceptions, and prints the result.\n",
    "Add simple assert tests for typical and edge cases (e.g., -40).\n",
    "\n",
    "# Critique\n",
    "Correctness: The formulas are correct and handle negative and edge values (like -40) properly. Input conversion uses float() with a try-except to catch invalid inputs.\n",
    "\n",
    "Complexity: O(1) for both functions — constant time and space.\n",
    "\n",
    "Robustness: Gracefully handles invalid numeric input. Could improve by re-prompting the user on bad input or wrapping the CLI in a loop.\n",
    "\n",
    "Readability: Clear variable names. Missing type hints and docstrings. PEP 8 compliance could be improved (two blank lines between functions).\n",
    "\n",
    "Testing: Includes basic print tests but should use assert for reliability.\n",
    "\n",
    "Faithfulness: Demonstrates control flow, exception handling, and basic testing consistent with the task.\n"
   ]
  },
  {
   "cell_type": "code",
   "execution_count": 4,
   "id": "d4b74dda-9005-4ca5-95a6-7f6b13605fac",
   "metadata": {},
   "outputs": [
    {
     "name": "stdout",
     "output_type": "stream",
     "text": [
      "All tests passed.\n"
     ]
    },
    {
     "name": "stdin",
     "output_type": "stream",
     "text": [
      "Convert (C)elsius→Fahrenheit or (F)ahrenheit→Celsius?  C\n",
      "Enter temperature:  50\n"
     ]
    },
    {
     "name": "stdout",
     "output_type": "stream",
     "text": [
      "50.0°C = 122.00°F\n"
     ]
    }
   ],
   "source": [
    "# Improved Code\n",
    "def cel_to_far(c: float) -> float:\n",
    "    \"\"\"Convert Celsius to Fahrenheit.\"\"\"\n",
    "    return c * 9 / 5 + 32\n",
    "\n",
    "def far_to_cel(f: float) -> float:\n",
    "    \"\"\"Convert Fahrenheit to Celsius.\"\"\"\n",
    "    return (f - 32) * 5 / 9\n",
    "\n",
    "def main() -> None:\n",
    "    \"\"\"Command-line interface for temperature conversion.\"\"\"\n",
    "    try:\n",
    "        direction = input(\"Convert (C)elsius→Fahrenheit or (F)ahrenheit→Celsius? \").strip().lower()\n",
    "        temp_str = input(\"Enter temperature: \").strip()\n",
    "        temp = float(temp_str)\n",
    "\n",
    "        if direction == 'c':\n",
    "            print(f\"{temp}°C = {cel_to_far(temp):.2f}°F\")\n",
    "        elif direction == 'f':\n",
    "            print(f\"{temp}°F = {far_to_cel(temp):.2f}°C\")\n",
    "        else:\n",
    "            print(\"Invalid choice. Please enter 'C' or 'F'.\")\n",
    "\n",
    "    except ValueError:\n",
    "        print(\"Error: Temperature must be a number.\")\n",
    "\n",
    "if __name__ == \"__main__\":\n",
    "    # Unit tests (simple asserts)\n",
    "    assert round(cel_to_far(0), 2) == 32.00\n",
    "    assert round(far_to_cel(32), 2) == 0.00\n",
    "    assert round(cel_to_far(-40), 2) == -40.00\n",
    "    assert round(far_to_cel(-40), 2) == -40.00\n",
    "    assert round(cel_to_far(100), 2) == 212.00\n",
    "    assert round(far_to_cel(212), 2) == 100.00\n",
    "    print(\"All tests passed.\")\n",
    "\n",
    "    # Run CLI\n",
    "    main()\n"
   ]
  },
  {
   "cell_type": "code",
   "execution_count": 6,
   "id": "20a4e4a8-98f8-498a-bdc4-a31dc6838a20",
   "metadata": {},
   "outputs": [
    {
     "name": "stdin",
     "output_type": "stream",
     "text": [
      "Convert (C)elsius to Fahrenheit or (F)ahrenheit to Celsius?  C\n",
      "Enter temperature:  40\n"
     ]
    },
    {
     "name": "stdout",
     "output_type": "stream",
     "text": [
      "40.0°C = 104.00°F\n",
      "32.0\n",
      "0.0\n",
      "-40.0\n",
      "-40.0\n"
     ]
    }
   ],
   "source": [
    "# ChatGPT Code\n",
    "def cel_to_far(c):\n",
    "    return c * 9 / 5 + 32\n",
    "\n",
    "def far_to_cel(f):\n",
    "    return (f - 32) * 5 / 9\n",
    "\n",
    "try:\n",
    "    choice = input(\"Convert (C)elsius to Fahrenheit or (F)ahrenheit to Celsius? \").strip().lower()\n",
    "    temp = float(input(\"Enter temperature: \"))\n",
    "    if choice == 'c':\n",
    "        print(f\"{temp}°C = {cel_to_far(temp):.2f}°F\")\n",
    "    elif choice == 'f':\n",
    "        print(f\"{temp}°F = {far_to_cel(temp):.2f}°C\")\n",
    "    else:\n",
    "        print(\"Invalid choice.\")\n",
    "except ValueError:\n",
    "    print(\"Please enter a valid number.\")\n",
    "\n",
    "# Tests\n",
    "print(cel_to_far(0))     # 32.0\n",
    "print(far_to_cel(32))    # 0.0\n",
    "print(cel_to_far(-40))   # -40.0\n",
    "print(far_to_cel(-40))   # -40.0\n"
   ]
  }
 ],
 "metadata": {
  "kernelspec": {
   "display_name": "Python [conda env:base] *",
   "language": "python",
   "name": "conda-base-py"
  },
  "language_info": {
   "codemirror_mode": {
    "name": "ipython",
    "version": 3
   },
   "file_extension": ".py",
   "mimetype": "text/x-python",
   "name": "python",
   "nbconvert_exporter": "python",
   "pygments_lexer": "ipython3",
   "version": "3.13.5"
  }
 },
 "nbformat": 4,
 "nbformat_minor": 5
}
