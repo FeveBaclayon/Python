{
 "cells": [
  {
   "cell_type": "markdown",
   "id": "944f1191-7281-4dd8-9608-1449bab82bc9",
   "metadata": {},
   "source": [
    "# Question 8\n",
    "OOP + Composition: Kennel with Dogs. Using a Dog class (name, age, breed,\n",
    "bark()), implement a Kennel manager that holds multiple Dog instances, supports\n",
    "add_dog, remove_dog, oldest_dog(), and find_by_breed(breed). Compare composition vs. inheritance for this scenario. Anchor concepts: OOP design, managing\n",
    "collections of objects. Reference: :contentReference[oaicite:14]index=14\n",
    "\n",
    "# Prompt (Paste Verbatim)\n",
    "\n",
    "Implement two classes in Python:\n",
    "Dog with attributes name, age, breed, and method bark() that prints \"<name> says woof!\".\n",
    "Kennel, which contains multiple Dog objects (composition).\n",
    "Provide methods add_dog, remove_dog, oldest_dog, and find_by_breed.\n",
    "\n",
    "# Critique\n",
    "Correctness: Meets all functional requirements — composition used properly (Kennel has many Dogs).\n",
    "\n",
    "Complexity: All operations are O(n), which is fine for small collections. Could use dicts for O(1) lookup by name in larger systems.\n",
    "\n",
    "Robustness: Handles empty kennel (oldest_dog uses default=None). Could add validation to avoid duplicate names.\n",
    "\n",
    "Readability: Clear, PEP 8–compliant names. Could include __str__ in Dog for nicer printing.\n",
    "\n",
    "Faithfulness: Demonstrates composition instead of inheritance — a Kennel contains dogs rather than is a dog collection subclass\n"
   ]
  },
  {
   "cell_type": "code",
   "execution_count": 5,
   "id": "f3bbdc5f-8655-4ee4-a498-1c0d1af24cca",
   "metadata": {},
   "outputs": [
    {
     "name": "stdout",
     "output_type": "stream",
     "text": [
      "Oldest: Max (Beagle, 7 yrs)\n",
      "Labradors: ['Buddy (Labrador, 5 yrs)', 'Luna (Labrador, 3 yrs)']\n",
      "After removal: ['Buddy (Labrador, 5 yrs)', 'Luna (Labrador, 3 yrs)']\n",
      "All tests passed.\n"
     ]
    }
   ],
   "source": [
    "# Improved Code\n",
    "class Dog:\n",
    "    \"\"\"Represents a dog with a name, age, and breed.\"\"\"\n",
    "    def __init__(self, name: str, age: int, breed: str):\n",
    "        self.name = name\n",
    "        self.age = age\n",
    "        self.breed = breed\n",
    "\n",
    "    def bark(self) -> None:\n",
    "        print(f\"{self.name} says woof!\")\n",
    "\n",
    "    def __str__(self):\n",
    "        return f\"{self.name} ({self.breed}, {self.age} yrs)\"\n",
    "\n",
    "class Kennel:\n",
    "    \"\"\"Manages a collection of Dog instances.\"\"\"\n",
    "    def __init__(self):\n",
    "        self._dogs = []\n",
    "\n",
    "    def add_dog(self, dog: Dog) -> None:\n",
    "        self._dogs.append(dog)\n",
    "\n",
    "    def remove_dog(self, name: str) -> None:\n",
    "        self._dogs = [d for d in self._dogs if d.name != name]\n",
    "\n",
    "    def oldest_dog(self) -> Dog | None:\n",
    "        return max(self._dogs, key=lambda d: d.age, default=None)\n",
    "\n",
    "    def find_by_breed(self, breed: str) -> list[Dog]:\n",
    "        return [d for d in self._dogs if d.breed.lower() == breed.lower()]\n",
    "\n",
    "if __name__ == \"__main__\":\n",
    "    kennel = Kennel()\n",
    "    kennel.add_dog(Dog(\"Buddy\", 5, \"Labrador\"))\n",
    "    kennel.add_dog(Dog(\"Max\", 7, \"Beagle\"))\n",
    "    kennel.add_dog(Dog(\"Luna\", 3, \"Labrador\"))\n",
    "\n",
    "    print(\"Oldest:\", kennel.oldest_dog())\n",
    "    print(\"Labradors:\", [str(d) for d in kennel.find_by_breed(\"Labrador\")])\n",
    "    kennel.remove_dog(\"Max\")\n",
    "    print(\"After removal:\", [str(d) for d in kennel._dogs])\n",
    "    print(\"All tests passed.\")\n"
   ]
  },
  {
   "cell_type": "code",
   "execution_count": 4,
   "id": "5d1cf228-84a4-4974-b8e5-b07aea17a4bc",
   "metadata": {},
   "outputs": [
    {
     "name": "stdout",
     "output_type": "stream",
     "text": [
      "Oldest dog: Max\n",
      "Labradors: ['Buddy', 'Luna']\n",
      "Remaining dogs: ['Buddy', 'Luna']\n"
     ]
    }
   ],
   "source": [
    "# ChatGPT Code\n",
    "class Dog:\n",
    "    def __init__(self, name, age, breed):\n",
    "        self.name = name\n",
    "        self.age = age\n",
    "        self.breed = breed\n",
    "\n",
    "    def bark(self):\n",
    "        print(f\"{self.name} says woof!\")\n",
    "\n",
    "class Kennel:\n",
    "    def __init__(self):\n",
    "        self.dogs = []\n",
    "\n",
    "    def add_dog(self, dog):\n",
    "        self.dogs.append(dog)\n",
    "\n",
    "    def remove_dog(self, name):\n",
    "        self.dogs = [d for d in self.dogs if d.name != name]\n",
    "\n",
    "    def oldest_dog(self):\n",
    "        return max(self.dogs, key=lambda d: d.age, default=None)\n",
    "\n",
    "    def find_by_breed(self, breed):\n",
    "        return [d for d in self.dogs if d.breed.lower() == breed.lower()]\n",
    "\n",
    "\n",
    "if __name__ == \"__main__\":\n",
    "    k = Kennel()\n",
    "    k.add_dog(Dog(\"Buddy\", 5, \"Labrador\"))\n",
    "    k.add_dog(Dog(\"Max\", 7, \"Beagle\"))\n",
    "    k.add_dog(Dog(\"Luna\", 3, \"Labrador\"))\n",
    "\n",
    "    print(\"Oldest dog:\", k.oldest_dog().name)\n",
    "    print(\"Labradors:\", [d.name for d in k.find_by_breed(\"labrador\")])\n",
    "    k.remove_dog(\"Max\")\n",
    "    print(\"Remaining dogs:\", [d.name for d in k.dogs])\n"
   ]
  }
 ],
 "metadata": {
  "kernelspec": {
   "display_name": "Python [conda env:base] *",
   "language": "python",
   "name": "conda-base-py"
  },
  "language_info": {
   "codemirror_mode": {
    "name": "ipython",
    "version": 3
   },
   "file_extension": ".py",
   "mimetype": "text/x-python",
   "name": "python",
   "nbconvert_exporter": "python",
   "pygments_lexer": "ipython3",
   "version": "3.13.5"
  }
 },
 "nbformat": 4,
 "nbformat_minor": 5
}
