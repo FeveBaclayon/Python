{
 "cells": [
  {
   "cell_type": "markdown",
   "id": "87c75221-6186-4369-ac16-669ec16909f5",
   "metadata": {},
   "source": [
    "# Question 1\n",
    "Task: Write a function normalize_and_find(text:\n",
    "str, needle: str) -> int that: (1) trims whitespace on both ends, (2) converts to lowercase, then (3) returns the index of the first occurrence of needle using\n",
    "a safe search (return −1 if not found). Discuss alternatives (find vs. index), and\n",
    "how your choice affects error handling. Anchor concepts: stripping, case conversion,\n",
    "find/replace, string immutability. Reference: :contentReference[oaicite:6]index=6\n",
    "\n",
    "\n",
    "# Prompt (Paste verbatim)\n",
    "Write a Python function normalize_and_find(text, needle) that trims whitespace on both sides of text, converts it to lowercase, and returns the index of the first occurrence of needle. If not found, return -1. Add a simple test.\n",
    "\n",
    "\n",
    "# Critiquee\n",
    " Correctness:\n",
    " Correctly strips whitespace and lowers both text and needle.\n",
    " Uses .find(), which safely returns -1 when not found (no exception).\n",
    " Does not explicitly handle None or non-string inputs, but acceptable under spec.\n",
    " Output for \" Hello World \", \"world\" is 6, which is correct.\n",
    "\n",
    " Time & Space Complexity:\n",
    "Time: O(n + m) where n = len(text), m = len(needle). Optimal for single pass.\n",
    "Space: O(n + m) for new lowercase strings (since strings are immutable).\n",
    "\n",
    "Robustness:\n",
    "Handles empty strings: returns -1 if needle not found.\n",
    "No crash on missing substring.\n",
    "Could benefit from input type checking or early exit if needle is empty.\n",
    "\n",
    "Readability / Style:\n",
    "Follows PEP 8 (snake_case).\n",
    "Could add a docstring and type hints.\n",
    "Variable names are fine; code is concise.\n",
    "No comments or assertions for clarity/testing.\n",
    "\n",
    "Faithfulness to Lecture:\n",
    "Uses .strip() and .lower() — consistent with lecture on immutability and string methods.\n",
    "Chooses .find() instead of .index(), correctly avoiding exceptions for safe search.\n",
    "(.index() would raise ValueError if not found, making .find() preferable here.)\n"
   ]
  },
  {
   "cell_type": "code",
   "execution_count": 15,
   "id": "8115db94-191e-47a1-990a-1194ec78e163",
   "metadata": {},
   "outputs": [
    {
     "name": "stdout",
     "output_type": "stream",
     "text": [
      "6\n"
     ]
    }
   ],
   "source": [
    "# Improved Code\n",
    "def normalize_and_find(text: str, needle: str) -> int:\n",
    "    \"\"\"Trim whitespace, convert to lowercase, and safely find the first index of needle.\"\"\"\n",
    "    if not isinstance(text, str) or not isinstance(needle, str):\n",
    "        raise TypeError(\"Both inputs must be strings.\")\n",
    "    \n",
    "    index = text.strip().lower().find(needle.lower())\n",
    "    return index\n",
    "\n",
    "\n",
    "result = normalize_and_find(\"   Hello World   \", \"world\")\n",
    "print(result)\n"
   ]
  },
  {
   "cell_type": "code",
   "execution_count": 17,
   "id": "81825061-cada-48f2-9f44-bd7b465a1651",
   "metadata": {},
   "outputs": [
    {
     "name": "stdout",
     "output_type": "stream",
     "text": [
      "6\n"
     ]
    }
   ],
   "source": [
    "# Chat GPT Code\n",
    "def normalize_and_find(text, needle):\n",
    "    text = text.strip().lower()\n",
    "    needle = needle.lower()\n",
    "    return text.find(needle)\n",
    "\n",
    "# test\n",
    "print(normalize_and_find(\"  Hello World  \", \"world\"))\n"
   ]
  }
 ],
 "metadata": {
  "kernelspec": {
   "display_name": "Python [conda env:base] *",
   "language": "python",
   "name": "conda-base-py"
  },
  "language_info": {
   "codemirror_mode": {
    "name": "ipython",
    "version": 3
   },
   "file_extension": ".py",
   "mimetype": "text/x-python",
   "name": "python",
   "nbconvert_exporter": "python",
   "pygments_lexer": "ipython3",
   "version": "3.13.5"
  }
 },
 "nbformat": 4,
 "nbformat_minor": 5
}
