{
 "cells": [
  {
   "cell_type": "markdown",
   "id": "569e3217-38e2-4a29-9aed-c0fa34b5c9e4",
   "metadata": {},
   "source": [
    "# Question 9\n",
    "Modules and Packages: Helpers. Create a package helpers/ with modules\n",
    "string_utils.py (function shout(s) uppercases) and math_utils.py (function area(l,w)).\n",
    "Then a main.py that imports with both import ... as ... and from ...\n",
    "import .... Explain namespace collisions and why aliases help. Anchor concepts: modules, packages, import variations, namespaces. Reference: :contentReference[oaicite:15]index=15\n",
    "\n",
    "# Prompt (Paste Verbatim)\n",
    "Create a Python package helpers/ with:\n",
    "\n",
    "string_utils.py containing def shout(s) that returns s.upper()\n",
    "math_utils.py containing def area(l, w) that returns l * w\n",
    "Then write main.py that:imports helpers.string_utils as su\n",
    "uses from helpers.math_utils import area\n",
    "Call both functions and print results.\n",
    "Explain how namespaces prevent name conflicts and why using aliases is good practice.\n",
    "\n",
    "# Critique\n",
    "Correctness:\n",
    "Each function performs its intended task correctly. The package layout (helpers/ folder with __init__.py if needed) follows standard module conventions. Imports work in both forms.\n",
    "\n",
    "Complexity:\n",
    "Constant-time operations — trivial computational cost.\n",
    "\n",
    "Robustness:\n",
    "Works with any string or numeric inputs. No side effects or global dependencies. Could add basic input validation (e.g., ensure l and w are numbers).\n",
    "\n",
    "Readability:\n",
    "Clear naming (shout, area). Using as su is readable and avoids repetitive typing. Inline comments or docstrings could enhance clarity.\n",
    "\n",
    "Faithfulness:\n",
    "Demonstrates both import ... as ... and from ... import ... forms, illustrating namespace handling and potential name collisions if two modules define the same function name (e.g., both define area())."
   ]
  },
  {
   "cell_type": "code",
   "execution_count": 7,
   "id": "7df7f08a-da6b-47e1-823b-20cca2452cdd",
   "metadata": {},
   "outputs": [
    {
     "name": "stdout",
     "output_type": "stream",
     "text": [
      "MODULAR PROGRAMMING IS NEAT!\n",
      "Area of 5x3 rectangle: 15\n"
     ]
    }
   ],
   "source": [
    "# Improved Code\n",
    "import helpers.string_utils as su\n",
    "from helpers.math_utils import area\n",
    "\n",
    "def main():\n",
    "    print(su.shout(\"modular programming is neat!\"))\n",
    "    print(\"Area of 5x3 rectangle:\", area(5, 3))\n",
    "\n",
    "if __name__ == \"__main__\":\n",
    "    main() \n"
   ]
  },
  {
   "cell_type": "code",
   "execution_count": 9,
   "id": "e9f574f4-4249-4a36-b157-bccd4afaff70",
   "metadata": {},
   "outputs": [
    {
     "name": "stdout",
     "output_type": "stream",
     "text": [
      "HELLO MODULES\n",
      "Area: 15\n"
     ]
    }
   ],
   "source": [
    "#ChatGPT Code\n",
    "import helpers.string_utils as su\n",
    "from helpers.math_utils import area\n",
    "\n",
    "print(su.shout(\"hello modules\"))\n",
    "print(\"Area:\", area(5, 3))\n"
   ]
  }
 ],
 "metadata": {
  "kernelspec": {
   "display_name": "Python [conda env:base] *",
   "language": "python",
   "name": "conda-base-py"
  },
  "language_info": {
   "codemirror_mode": {
    "name": "ipython",
    "version": 3
   },
   "file_extension": ".py",
   "mimetype": "text/x-python",
   "name": "python",
   "nbconvert_exporter": "python",
   "pygments_lexer": "ipython3",
   "version": "3.13.5"
  }
 },
 "nbformat": 4,
 "nbformat_minor": 5
}
