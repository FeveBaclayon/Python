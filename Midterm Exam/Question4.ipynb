{
 "cells": [
  {
   "cell_type": "markdown",
   "id": "358a9747-053c-4a49-ba07-16235b460bcb",
   "metadata": {},
   "source": [
    "# Question 4\n",
    "Exponent Tool & Input Validation. Create a CLI program exponent.py that reads two values, validates they are numeric, handles errors gracefully (e.g., ValueError), and prints a ** b with clear messages. Compare using try/except vs. pre-validation with str.isdigit() (and why isdigit() is insufficient for negatives/floats). Anchor concepts: arithmetic operators, exceptions, input. Reference: :contentReference[oaicite:9]index=9, :contentReference[oaicite:10]index=10\n",
    "\n",
    "# Prompt (Paste Verbatim)\n",
    "Write a Python CLI program exponent.py that.Asks for two numbers a and b.Validates input using try/except to handle ValueError.Computes and prints a ** b with a clear message.Also briefly demonstrate pre-validation with .isdigit() and explain why .isdigit() fails for negatives or floats and Add simple test runs.\n",
    "\n",
    "# Critique\n",
    "Correctness: Program correctly reads inputs, converts them to floats, handles invalid entries with try/except, and performs exponentiation. .isdigit() example correctly shows limitation for negative or float numbers.\n",
    "\n",
    "Complexity: O(1) time and space — constant-time arithmetic and input handling.\n",
    "\n",
    "Robustness: Gracefully handles bad input via try/except. .isdigit() method is demonstrated but not relied upon, which is good since it fails for floats/negatives.\n",
    "\n",
    "Readability: Clear messages, simple flow, meaningful variable names. Could wrap main logic in a main() function for modularity.\n",
    "\n",
    "Faithfulness: Uses exception handling and arithmetic operators consistent with our notes on input validation and numeric computation."
   ]
  },
  {
   "cell_type": "code",
   "execution_count": 4,
   "id": "0ef453e3-c6c7-4c95-a778-098519a8d86e",
   "metadata": {},
   "outputs": [
    {
     "name": "stdin",
     "output_type": "stream",
     "text": [
      "Enter base number (a):  12\n",
      "Enter exponent (b):  2\n"
     ]
    },
    {
     "name": "stdout",
     "output_type": "stream",
     "text": [
      "12.0 raised to the power of 2.0 is 144.0\n",
      "5.isdigit() → True\n",
      "-3.isdigit() → False\n",
      "4.2.isdigit() → False\n"
     ]
    }
   ],
   "source": [
    "# Improved Code\n",
    "def get_float(prompt: str) -> float:\n",
    "    \"\"\"Prompt user for a number, reprompt until valid float is entered.\"\"\"\n",
    "    while True:\n",
    "        try:\n",
    "            return float(input(prompt))\n",
    "        except ValueError:\n",
    "            print(\"Invalid input. Please enter a numeric value.\")\n",
    "\n",
    "def exponent_tool():\n",
    "    \"\"\"Compute and display a ** b with validated input.\"\"\"\n",
    "    a = get_float(\"Enter base number (a): \")\n",
    "    b = get_float(\"Enter exponent (b): \")\n",
    "    result = a ** b\n",
    "    print(f\"{a} raised to the power of {b} is {result}\")\n",
    "\n",
    "if __name__ == \"__main__\":\n",
    "    exponent_tool()\n",
    "\n",
    "   \n",
    "    for val in [\"5\", \"-3\", \"4.2\"]:\n",
    "        print(f\"{val}.isdigit() → {val.isdigit()}\")\n"
   ]
  },
  {
   "cell_type": "code",
   "execution_count": 3,
   "id": "f9398482-2ead-47bb-ba3f-1f8e1ad23b3b",
   "metadata": {},
   "outputs": [
    {
     "name": "stdin",
     "output_type": "stream",
     "text": [
      "Enter base number (a):  14\n",
      "Enter exponent (b):  4\n"
     ]
    },
    {
     "name": "stdout",
     "output_type": "stream",
     "text": [
      "14.0 raised to the power of 4.0 is 38416.0\n",
      "False\n"
     ]
    },
    {
     "data": {
      "text/plain": [
       "12"
      ]
     },
     "execution_count": 3,
     "metadata": {},
     "output_type": "execute_result"
    }
   ],
   "source": [
    "# ChatGPT Code\n",
    "try:\n",
    "    a = float(input(\"Enter base number (a): \"))\n",
    "    b = float(input(\"Enter exponent (b): \"))\n",
    "    result = a ** b\n",
    "    print(f\"{a} raised to the power of {b} is {result}\")\n",
    "except ValueError:\n",
    "    print(\"Error: Please enter valid numeric values.\")\n",
    "\n",
    "# Example of pre-validation (less robust)\n",
    "a_str = \"-2.5\"\n",
    "print(a_str.isdigit())  # False — because isdigit() ignores '-' and '.'\n",
    "12"
   ]
  },
  {
   "cell_type": "code",
   "execution_count": null,
   "id": "13af3ff4-1c58-45e1-9a91-95d53836c99f",
   "metadata": {},
   "outputs": [],
   "source": []
  }
 ],
 "metadata": {
  "kernelspec": {
   "display_name": "Python [conda env:base] *",
   "language": "python",
   "name": "conda-base-py"
  },
  "language_info": {
   "codemirror_mode": {
    "name": "ipython",
    "version": 3
   },
   "file_extension": ".py",
   "mimetype": "text/x-python",
   "name": "python",
   "nbconvert_exporter": "python",
   "pygments_lexer": "ipython3",
   "version": "3.13.5"
  }
 },
 "nbformat": 4,
 "nbformat_minor": 5
}
