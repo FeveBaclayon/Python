{
 "cells": [
  {
   "cell_type": "markdown",
   "id": "95493d80-9f63-4a57-9587-bfdc694f93a2",
   "metadata": {},
   "source": [
    "# Question 6\n",
    "Dice Simulation (Monte Carlo). Write roll() -> int to simulate a fair die,\n",
    "then simulate 100,000 rolls to estimate the probability that the sum of two dice\n",
    "equals 7. Compare empirical result to the exact probability. Comment on random\n",
    "seeding and reproducibility. Anchor concepts: random module, simulation, averages.\n",
    "Reference: :contentReference[oaicite:12]index=12\n",
    "\n",
    "# Prompt (Paste Verbatim)\n",
    "Write a Python program that simulates rolling two fair dice 100,000 times using the random module.\n",
    "Estimate the probability that the sum of the two dice equals 7.\n",
    "Compare the estimated probability to the exact probability (6/36 = 1/6).\n",
    "Comment briefly on how random seeds affect reproducibility.\n",
    "\n",
    "# Critique\n",
    "Correctness: Correctly simulates 100,000 rolls and counts sums of 7. Produces an unbiased estimate of the true probability (≈0.1667).\n",
    "\n",
    "Complexity: O(n) time for n trials, O(1) space. Efficient for large simulations.\n",
    "\n",
    "Robustness: Works for any positive number of trials. No seed set—so results vary per run.\n",
    "\n",
    "Readability: Clear structure but lacks docstring, seed control, or encapsulated logic.\n",
    "\n",
    "Faithfulness: Uses random.randint, consistent with Monte Carlo simulation methods taught."
   ]
  },
  {
   "cell_type": "code",
   "execution_count": 4,
   "id": "e978cabc-746f-4914-b30d-1b718f9c3ed4",
   "metadata": {},
   "outputs": [
    {
     "name": "stdout",
     "output_type": "stream",
     "text": [
      "Estimated P(sum=7): 0.16456\n",
      "Exact P(sum=7): 0.16667\n",
      "Difference: 0.0021066666666666456\n"
     ]
    }
   ],
   "source": [
    "# Improved Code\n",
    "import random\n",
    "\n",
    "def roll() -> int:\n",
    "    \"\"\"Return the result of rolling a fair six-sided die.\"\"\"\n",
    "    return random.randint(1, 6)\n",
    "\n",
    "def estimate_prob_sum7(trials: int = 100_000, seed: int | None = 42) -> float:\n",
    "    \"\"\"Estimate P(sum of two dice = 7) using Monte Carlo simulation.\"\"\"\n",
    "    if seed is not None:\n",
    "        random.seed(seed)  # Ensures reproducibility\n",
    "\n",
    "    count = sum(1 for _ in range(trials) if roll() + roll() == 7)\n",
    "    return count / trials\n",
    "\n",
    "if __name__ == \"__main__\":\n",
    "    empirical = estimate_prob_sum7()\n",
    "    exact = 6 / 36  # 1/6\n",
    "    print(f\"Estimated P(sum=7): {empirical:.5f}\")\n",
    "    print(f\"Exact P(sum=7): {exact:.5f}\")\n",
    "    print(\"Difference:\", abs(empirical - exact))\n"
   ]
  },
  {
   "cell_type": "code",
   "execution_count": 3,
   "id": "7bce0415-bf58-4ec1-b64b-4af08ccab69f",
   "metadata": {},
   "outputs": [
    {
     "name": "stdout",
     "output_type": "stream",
     "text": [
      "Estimated P(sum=7): 0.16749\n",
      "Exact P(sum=7): 0.16666666666666666\n"
     ]
    }
   ],
   "source": [
    "# ChatGPT Code\n",
    "import random\n",
    "\n",
    "def roll():\n",
    "    return random.randint(1, 6)\n",
    "\n",
    "trials = 100_000\n",
    "count = 0\n",
    "for _ in range(trials):\n",
    "    if roll() + roll() == 7:\n",
    "        count += 1\n",
    "\n",
    "empirical_prob = count / trials\n",
    "print(\"Estimated P(sum=7):\", empirical_prob)\n",
    "print(\"Exact P(sum=7):\", 6/36)\n"
   ]
  }
 ],
 "metadata": {
  "kernelspec": {
   "display_name": "Python [conda env:base] *",
   "language": "python",
   "name": "conda-base-py"
  },
  "language_info": {
   "codemirror_mode": {
    "name": "ipython",
    "version": 3
   },
   "file_extension": ".py",
   "mimetype": "text/x-python",
   "name": "python",
   "nbconvert_exporter": "python",
   "pygments_lexer": "ipython3",
   "version": "3.13.5"
  }
 },
 "nbformat": 4,
 "nbformat_minor": 5
}
