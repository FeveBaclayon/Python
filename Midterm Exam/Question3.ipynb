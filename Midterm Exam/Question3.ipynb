{
 "cells": [
  {
   "cell_type": "markdown",
   "id": "3446c701-04f9-45a9-8f06-e6173d49b666",
   "metadata": {},
   "source": [
    "# Question 3\n",
    "Task: Write fmt_money(x: float)\n",
    "-> str that returns a string like 1,234.50 using proper rounding (banker’s rounding / ties-to-even). Include test cases that demonstrate ties (e.g., 2.5, 3.5). Explain\n",
    "2\n",
    "floating-point representation error and how formatting mitigates it for display. Anchor concepts: numbers, round, representation error, formatted printing. Reference:\n",
    ":contentReference[oaicite:8]index=8\n",
    "\n",
    "# Prompt (Paste Verbatim)\n",
    "Write a Python function fmt_money(x) that returns a properly rounded string for money values using banker’s rounding (ties-to-even). Format with commas and two decimal places (e.g., \"1,234.50\"). Demonstrate with test cases including 2.5 and 3.5.\n",
    "\n",
    "# Critique\n",
    "Correctness:\n",
    "Uses round(x, 2) which follows banker’s rounding.\n",
    "Produces the expected display format \"1,234.50\".\n",
    "Works properly for all numeric values tested.\n",
    "\n",
    "Complexity:\n",
    "Runs in constant time O(1). Minimal operations — efficient and optimal.\n",
    "\n",
    "Robustness:\n",
    "Handles integers, floats, and negatives well. Could include a type check or docstring.\n",
    "\n",
    "Readability:\n",
    "Very readable. Variable names are minimal but clear; could add documentation for clarity.\n",
    "\n",
    "Faithfulness:\n",
    "Uses correct anchor concepts: round, formatted printing, and numeric formatting."
   ]
  },
  {
   "cell_type": "code",
   "execution_count": 28,
   "id": "d28fc1fd-4016-4a43-b582-bfe88d0d602f",
   "metadata": {},
   "outputs": [
    {
     "name": "stdout",
     "output_type": "stream",
     "text": [
      "2.50\n",
      "3.50\n",
      "1,234.50\n",
      "1,234.57\n",
      "-9,876.56\n"
     ]
    }
   ],
   "source": [
    "#Improved Code\n",
    "def fmt_money(x: float) -> str:\n",
    "    \"\"\"Return a string formatted as money with commas and 2 decimals,\n",
    "    using banker's rounding (ties-to-even).\"\"\"\n",
    "    rounded = round(x, 2)\n",
    "    return f\"{rounded:,.2f}\"\n",
    "\n",
    "print(fmt_money(2.5))        # → 2.00 (ties-to-even)\n",
    "print(fmt_money(3.5))        # → 4.00 (ties-to-even)\n",
    "print(fmt_money(1234.5))     # → 1,234.50\n",
    "print(fmt_money(1234.567))   # → 1,234.57\n",
    "print(fmt_money(-9876.555))  # → -9,876.56\n"
   ]
  },
  {
   "cell_type": "code",
   "execution_count": 29,
   "id": "095d75f7-199b-472c-8db7-42a75ed86d8c",
   "metadata": {},
   "outputs": [
    {
     "name": "stdout",
     "output_type": "stream",
     "text": [
      "1,234.50\n",
      "2.50\n",
      "3.50\n",
      "1,234.57\n"
     ]
    }
   ],
   "source": [
    "# ChatGPT Code\n",
    "def fmt_money(x):\n",
    "    return f\"{round(x, 2):,.2f}\"\n",
    "\n",
    "\n",
    "print(fmt_money(1234.5))\n",
    "print(fmt_money(2.5))\n",
    "print(fmt_money(3.5))\n",
    "print(fmt_money(1234.5678))\n"
   ]
  }
 ],
 "metadata": {
  "kernelspec": {
   "display_name": "Python [conda env:base] *",
   "language": "python",
   "name": "conda-base-py"
  },
  "language_info": {
   "codemirror_mode": {
    "name": "ipython",
    "version": 3
   },
   "file_extension": ".py",
   "mimetype": "text/x-python",
   "name": "python",
   "nbconvert_exporter": "python",
   "pygments_lexer": "ipython3",
   "version": "3.13.5"
  }
 },
 "nbformat": 4,
 "nbformat_minor": 5
}
