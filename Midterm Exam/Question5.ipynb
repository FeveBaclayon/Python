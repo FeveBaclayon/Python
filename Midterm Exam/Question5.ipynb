{
 "cells": [
  {
   "cell_type": "markdown",
   "id": "db79f8bc-5ac2-48c1-bcb8-0779f38e05b0",
   "metadata": {},
   "source": [
    "# Question 5\n",
    "Password Policy Checker (If/Elif/Else + Loops). Implement check_password(pw:\n",
    "str) -> dict that validates: length ≥ 10, at least one uppercase, one lowercase,\n",
    "one digit, one symbol in !@#$%^&*, and no spaces. Return a dict of booleans per\n",
    "rule and an overall pass/fail. Include a loop that prompts until a valid password\n",
    "is entered (allow quit with Q/q). Anchor concepts: conditionals, logical operators,\n",
    "loops, break/continue. Reference: :contentReference[oaicite:11]index=11\n",
    "\n",
    "# Prompt (Paste Verbatim)\n",
    "Write a Python function check_password(pw) that checks if a password meets these rules:\n",
    "≥10 characters\n",
    "at least one uppercas\n",
    "at least one lowercase\n",
    "at least one digit\n",
    "at least one symbol from !@#$%^&*\n",
    "no spaces\n",
    "Return a dict with booleans per rule and \"valid\" overall.\n",
    "Then write a loop that keeps asking for input until a valid password or Q/q is entered.\n",
    "\n",
    "# Critique\n",
    "Correctness: Meets all specified validation rules (length, character types, no spaces).\n",
    "Loop correctly continues until a valid password or Q/q entered.\n",
    "Returns structured dict of rule results plus \"valid\".\n",
    "\n",
    "Complexity: O(n) per check since each rule scans the string once; acceptable for short inputs.\n",
    "\n",
    "Robustness: Works for any string. Could add try/except for non-str input in broader use.\n",
    "\n",
    "Readability: Variable and dict names are clear. Uses comprehension idioms cleanly.\n",
    "Could factor out the character tests into helper functions for clarity.\n",
    "\n",
    "Faithfulness: Demonstrates if/elif/else, logical operators, loops, and break/continue—consistent with our control flow and string-handling topics."
   ]
  },
  {
   "cell_type": "code",
   "execution_count": 19,
   "id": "73fc19ef-e099-4f1f-8fe1-016d31a630a1",
   "metadata": {},
   "outputs": [
    {
     "name": "stdin",
     "output_type": "stream",
     "text": [
      "Enter password (Q to quit):  Q\n"
     ]
    },
    {
     "name": "stdout",
     "output_type": "stream",
     "text": [
      "Exiting.\n"
     ]
    }
   ],
   "source": [
    "# Improved Code\n",
    "def check_password(pw: str) -> dict:\n",
    "    \"\"\"Validate password against policy rules and return dict of booleans + 'valid'.\"\"\"\n",
    "    symbols = set(\"!@#$%^&*\")\n",
    "    rules = {\n",
    "        \"length\": len(pw) >= 10,\n",
    "        \"upper\": any(c.isupper() for c in pw),\n",
    "        \"lower\": any(c.islower() for c in pw),\n",
    "        \"digit\": any(c.isdigit() for c in pw),\n",
    "        \"symbol\": any(c in symbols for c in pw),\n",
    "        \"no_space\": \" \" not in pw\n",
    "    }\n",
    "    rules[\"valid\"] = all(rules.values())\n",
    "    return rules\n",
    "\n",
    "\n",
    "if __name__ == \"__main__\":\n",
    "    while True:\n",
    "        pw = input(\"Enter password (Q to quit): \").strip()\n",
    "        if pw.lower() == \"q\":\n",
    "            print(\"Exiting.\")\n",
    "            break\n",
    "        result = check_password(pw)\n",
    "        print(result)\n",
    "        if result[\"valid\"]:\n",
    "            print(\"Password accepted.\")\n",
    "            break\n",
    "        else:\n",
    "            print(\"Password invalid. Try again.\")\n"
   ]
  },
  {
   "cell_type": "code",
   "execution_count": 20,
   "id": "650a9503-8c8a-4f93-9dfd-49bf6ce810dd",
   "metadata": {},
   "outputs": [
    {
     "name": "stdin",
     "output_type": "stream",
     "text": [
      "Enter password (Q to quit):  Q\n"
     ]
    }
   ],
   "source": [
    "# ChatGPT Code\n",
    "def check_password(pw):\n",
    "    rules = {\n",
    "        \"length\": len(pw) >= 10,\n",
    "        \"upper\": any(ch.isupper() for ch in pw),\n",
    "        \"lower\": any(ch.islower() for ch in pw),\n",
    "        \"digit\": any(ch.isdigit() for ch in pw),\n",
    "        \"symbol\": any(ch in \"!@#$%^&*\" for ch in pw),\n",
    "        \"no_space\": \" \" not in pw\n",
    "    }\n",
    "    rules[\"valid\"] = all(rules.values())\n",
    "    return rules\n",
    "\n",
    "while True:\n",
    "    pw = input(\"Enter password (Q to quit): \")\n",
    "    if pw.lower() == \"q\":\n",
    "        break\n",
    "    result = check_password(pw)\n",
    "    print(result)\n",
    "    if result[\"valid\"]:\n",
    "        print(\"Password accepted.\")\n",
    "        break\n",
    "    else:\n",
    "        print(\"Try again.\")\n"
   ]
  },
  {
   "cell_type": "code",
   "execution_count": null,
   "id": "a3abc5f9-d605-48a4-b70a-4480bfcca4c0",
   "metadata": {},
   "outputs": [],
   "source": []
  }
 ],
 "metadata": {
  "kernelspec": {
   "display_name": "Python [conda env:base] *",
   "language": "python",
   "name": "conda-base-py"
  },
  "language_info": {
   "codemirror_mode": {
    "name": "ipython",
    "version": 3
   },
   "file_extension": ".py",
   "mimetype": "text/x-python",
   "name": "python",
   "nbconvert_exporter": "python",
   "pygments_lexer": "ipython3",
   "version": "3.13.5"
  }
 },
 "nbformat": 4,
 "nbformat_minor": 5
}
